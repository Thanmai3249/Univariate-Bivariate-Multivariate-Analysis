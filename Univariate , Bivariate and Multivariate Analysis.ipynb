{
 "cells": [
  {
   "cell_type": "markdown",
   "id": "81e46fbc",
   "metadata": {},
   "source": [
    "# Univariate Analysis"
   ]
  },
  {
   "cell_type": "code",
   "execution_count": 37,
   "id": "b271ac58",
   "metadata": {},
   "outputs": [],
   "source": [
    "import pandas as pd\n",
    "import matplotlib.pyplot as plt\n",
    "import seaborn as sns\n",
    "import warnings\n",
    "warnings.filterwarnings('ignore')"
   ]
  },
  {
   "cell_type": "markdown",
   "id": "10527cc0",
   "metadata": {},
   "source": [
    "The data set originally in .csv format is loaded into the DataFrame df using the pd.read_csv( ) function of pandas . Then, it displays the DataFrame df."
   ]
  },
  {
   "cell_type": "code",
   "execution_count": 38,
   "id": "d4510e5d",
   "metadata": {},
   "outputs": [
    {
     "data": {
      "text/html": [
       "<div>\n",
       "<style scoped>\n",
       "    .dataframe tbody tr th:only-of-type {\n",
       "        vertical-align: middle;\n",
       "    }\n",
       "\n",
       "    .dataframe tbody tr th {\n",
       "        vertical-align: top;\n",
       "    }\n",
       "\n",
       "    .dataframe thead th {\n",
       "        text-align: right;\n",
       "    }\n",
       "</style>\n",
       "<table border=\"1\" class=\"dataframe\">\n",
       "  <thead>\n",
       "    <tr style=\"text-align: right;\">\n",
       "      <th></th>\n",
       "      <th>Date</th>\n",
       "      <th>Sales</th>\n",
       "    </tr>\n",
       "  </thead>\n",
       "  <tbody>\n",
       "    <tr>\n",
       "      <th>0</th>\n",
       "      <td>01-04-2004</td>\n",
       "      <td>6.586639e+08</td>\n",
       "    </tr>\n",
       "    <tr>\n",
       "      <th>1</th>\n",
       "      <td>01-08-2004</td>\n",
       "      <td>6.718275e+08</td>\n",
       "    </tr>\n",
       "    <tr>\n",
       "      <th>2</th>\n",
       "      <td>01-07-2004</td>\n",
       "      <td>6.771148e+08</td>\n",
       "    </tr>\n",
       "    <tr>\n",
       "      <th>3</th>\n",
       "      <td>01-09-2004</td>\n",
       "      <td>6.781078e+08</td>\n",
       "    </tr>\n",
       "    <tr>\n",
       "      <th>4</th>\n",
       "      <td>01-06-2004</td>\n",
       "      <td>6.796056e+08</td>\n",
       "    </tr>\n",
       "    <tr>\n",
       "      <th>...</th>\n",
       "      <td>...</td>\n",
       "      <td>...</td>\n",
       "    </tr>\n",
       "    <tr>\n",
       "      <th>149</th>\n",
       "      <td>01-04-2016</td>\n",
       "      <td>1.885490e+09</td>\n",
       "    </tr>\n",
       "    <tr>\n",
       "      <th>150</th>\n",
       "      <td>01-05-2016</td>\n",
       "      <td>1.981352e+09</td>\n",
       "    </tr>\n",
       "    <tr>\n",
       "      <th>151</th>\n",
       "      <td>01-06-2016</td>\n",
       "      <td>2.038882e+09</td>\n",
       "    </tr>\n",
       "    <tr>\n",
       "      <th>152</th>\n",
       "      <td>01-07-2016</td>\n",
       "      <td>2.260256e+09</td>\n",
       "    </tr>\n",
       "    <tr>\n",
       "      <th>153</th>\n",
       "      <td>01-03-2016</td>\n",
       "      <td>NaN</td>\n",
       "    </tr>\n",
       "  </tbody>\n",
       "</table>\n",
       "<p>154 rows × 2 columns</p>\n",
       "</div>"
      ],
      "text/plain": [
       "           Date         Sales\n",
       "0    01-04-2004  6.586639e+08\n",
       "1    01-08-2004  6.718275e+08\n",
       "2    01-07-2004  6.771148e+08\n",
       "3    01-09-2004  6.781078e+08\n",
       "4    01-06-2004  6.796056e+08\n",
       "..          ...           ...\n",
       "149  01-04-2016  1.885490e+09\n",
       "150  01-05-2016  1.981352e+09\n",
       "151  01-06-2016  2.038882e+09\n",
       "152  01-07-2016  2.260256e+09\n",
       "153  01-03-2016           NaN\n",
       "\n",
       "[154 rows x 2 columns]"
      ]
     },
     "execution_count": 38,
     "metadata": {},
     "output_type": "execute_result"
    }
   ],
   "source": [
    "data=pd.read_csv(\"Demand Forecasting Data.csv\")\n",
    "data"
   ]
  },
  {
   "cell_type": "code",
   "execution_count": 39,
   "id": "bf13e5a3",
   "metadata": {},
   "outputs": [
    {
     "data": {
      "text/plain": [
       "Date     0\n",
       "Sales    4\n",
       "dtype: int64"
      ]
     },
     "execution_count": 39,
     "metadata": {},
     "output_type": "execute_result"
    }
   ],
   "source": [
    "#Finding null values\n",
    "data.isnull().sum()"
   ]
  },
  {
   "cell_type": "code",
   "execution_count": 40,
   "id": "c50a1308",
   "metadata": {},
   "outputs": [
    {
     "data": {
      "text/plain": [
       "Date     0\n",
       "Sales    0\n",
       "dtype: int64"
      ]
     },
     "execution_count": 40,
     "metadata": {},
     "output_type": "execute_result"
    }
   ],
   "source": [
    "df=data.dropna()\n",
    "df.isnull().sum()"
   ]
  },
  {
   "cell_type": "code",
   "execution_count": 41,
   "id": "3848db4c",
   "metadata": {},
   "outputs": [
    {
     "data": {
      "text/html": [
       "<div>\n",
       "<style scoped>\n",
       "    .dataframe tbody tr th:only-of-type {\n",
       "        vertical-align: middle;\n",
       "    }\n",
       "\n",
       "    .dataframe tbody tr th {\n",
       "        vertical-align: top;\n",
       "    }\n",
       "\n",
       "    .dataframe thead th {\n",
       "        text-align: right;\n",
       "    }\n",
       "</style>\n",
       "<table border=\"1\" class=\"dataframe\">\n",
       "  <thead>\n",
       "    <tr style=\"text-align: right;\">\n",
       "      <th></th>\n",
       "      <th>Sales</th>\n",
       "    </tr>\n",
       "  </thead>\n",
       "  <tbody>\n",
       "    <tr>\n",
       "      <th>count</th>\n",
       "      <td>1.500000e+02</td>\n",
       "    </tr>\n",
       "    <tr>\n",
       "      <th>mean</th>\n",
       "      <td>9.105621e+08</td>\n",
       "    </tr>\n",
       "    <tr>\n",
       "      <th>std</th>\n",
       "      <td>3.487968e+08</td>\n",
       "    </tr>\n",
       "    <tr>\n",
       "      <th>min</th>\n",
       "      <td>5.520683e+08</td>\n",
       "    </tr>\n",
       "    <tr>\n",
       "      <th>25%</th>\n",
       "      <td>6.666513e+08</td>\n",
       "    </tr>\n",
       "    <tr>\n",
       "      <th>50%</th>\n",
       "      <td>7.448736e+08</td>\n",
       "    </tr>\n",
       "    <tr>\n",
       "      <th>75%</th>\n",
       "      <td>1.031244e+09</td>\n",
       "    </tr>\n",
       "    <tr>\n",
       "      <th>max</th>\n",
       "      <td>2.260256e+09</td>\n",
       "    </tr>\n",
       "  </tbody>\n",
       "</table>\n",
       "</div>"
      ],
      "text/plain": [
       "              Sales\n",
       "count  1.500000e+02\n",
       "mean   9.105621e+08\n",
       "std    3.487968e+08\n",
       "min    5.520683e+08\n",
       "25%    6.666513e+08\n",
       "50%    7.448736e+08\n",
       "75%    1.031244e+09\n",
       "max    2.260256e+09"
      ]
     },
     "execution_count": 41,
     "metadata": {},
     "output_type": "execute_result"
    }
   ],
   "source": [
    "df.describe()"
   ]
  },
  {
   "cell_type": "markdown",
   "id": "f2616662",
   "metadata": {},
   "source": [
    "Before analyzing any data set, inspect the data types of the data variables. Then, one can decide on the right methods for univariate data visualization."
   ]
  },
  {
   "cell_type": "code",
   "execution_count": 42,
   "id": "d4368847",
   "metadata": {},
   "outputs": [
    {
     "data": {
      "text/plain": [
       "Date      object\n",
       "Sales    float64\n",
       "dtype: object"
      ]
     },
     "execution_count": 42,
     "metadata": {},
     "output_type": "execute_result"
    }
   ],
   "source": [
    "df.dtypes"
   ]
  },
  {
   "cell_type": "code",
   "execution_count": 43,
   "id": "1234fe8e",
   "metadata": {},
   "outputs": [
    {
     "data": {
      "text/plain": [
       "Sales    3.487968e+08\n",
       "dtype: float64"
      ]
     },
     "execution_count": 43,
     "metadata": {},
     "output_type": "execute_result"
    }
   ],
   "source": [
    "df.std()"
   ]
  },
  {
   "cell_type": "code",
   "execution_count": 44,
   "id": "7d4b4b89",
   "metadata": {},
   "outputs": [
    {
     "data": {
      "text/plain": [
       "Sales    1.540975\n",
       "dtype: float64"
      ]
     },
     "execution_count": 44,
     "metadata": {},
     "output_type": "execute_result"
    }
   ],
   "source": [
    "#Measuring Skewness\n",
    "df.skew()"
   ]
  },
  {
   "cell_type": "code",
   "execution_count": 45,
   "id": "935b4666",
   "metadata": {},
   "outputs": [
    {
     "data": {
      "text/plain": [
       "Sales    1.950639\n",
       "dtype: float64"
      ]
     },
     "execution_count": 45,
     "metadata": {},
     "output_type": "execute_result"
    }
   ],
   "source": [
    "# check the kurtosis\n",
    "df.kurtosis()"
   ]
  },
  {
   "cell_type": "code",
   "execution_count": 46,
   "id": "09b19344",
   "metadata": {},
   "outputs": [
    {
     "data": {
      "text/plain": [
       "<AxesSubplot:ylabel='Count'>"
      ]
     },
     "execution_count": 46,
     "metadata": {},
     "output_type": "execute_result"
    },
    {
     "data": {
      "image/png": "[encoded data removed]",
      "text/plain": [
       "<Figure size 432x288 with 1 Axes>"
      ]
     },
     "metadata": {},
     "output_type": "display_data"
    }
   ],
   "source": [
    "#Normal \n",
    "sns.histplot('Sales',kde=False)"
   ]
  },
  {
   "cell_type": "markdown",
   "id": "8a1a89da",
   "metadata": {},
   "source": [
    "# Data Visualization:"
   ]
  },
  {
   "cell_type": "markdown",
   "id": "0601eb24",
   "metadata": {},
   "source": [
    "Data visualization is the process of representing data using visual elements like charts, graphs, etc. that helps in deriving meaningful insights from the data. It is aimed at revealing the information behind the data and further aids the viewer in seeing the structure in the data.\n",
    "\n",
    "Data visualization will make the scientific findings accessible to anyone with minimal exposure in data science and helps one to communicate the information easily. It is to be understood that the visualization technique one employs for a particular data set depends on the individual’s taste and preference."
   ]
  },
  {
   "cell_type": "markdown",
   "id": "9ea3248b",
   "metadata": {},
   "source": [
    "# Univariate Analysis:"
   ]
  },
  {
   "cell_type": "markdown",
   "id": "70569016",
   "metadata": {},
   "source": [
    "The term univariate analysis refers to the analysis of one variable. You can remember this because the prefix “uni” means “one.” The purpose of univariate analysis is to understand the distribution of values for a single variable.\n",
    "These plots help in understanding the location/position of observations in the data variable, its distribution, and dispersion. Uni-variate plots are of two types: 1)Enumerative plots and 2)Summary plots"
   ]
  },
  {
   "cell_type": "markdown",
   "id": "d99c988b",
   "metadata": {},
   "source": [
    "1) Univariate enumerative Plots :\n",
    "\n",
    "These plots enumerate/show every observation in data and provide information about the distribution of the observations on a single data variable. We now look at different enumerative plots."
   ]
  },
  {
   "cell_type": "markdown",
   "id": "4b271c7b",
   "metadata": {},
   "source": [
    "Scatter Plot: This plots different observations/values of the same variable corresponding to the index/observation number. Use the plt.scatter() function of matplotlib to plot a univariate scatter diagram. The scatter() function requires two parameters to plot. So, in this example, we plot the variable ‘math score’ against the corresponding observation number that is stored as the index of the data frame (df.index).And we are considering the gender to make the plot more meaningful.\n",
    "\n",
    "In seaborn, the hue parameter determines which column in the data frame should be used for color encoding. This helps to differentiate between the data values according to the categories they belong to. The hue parameter takes the grouping variable as it’s input using which it will produce points with different colors. "
   ]
  },
  {
   "cell_type": "code",
   "execution_count": 47,
   "id": "fe90569b",
   "metadata": {},
   "outputs": [
    {
     "data": {
      "image/png": "[encoded data removed]",
      "text/plain": [
       "<Figure size 1440x360 with 1 Axes>"
      ]
     },
     "metadata": {},
     "output_type": "display_data"
    }
   ],
   "source": [
    "#Scatter Plot\n",
    "sns.set_style('whitegrid')\n",
    "plt.figure(figsize=(20,5))\n",
    "sns.scatterplot(x=df.index,y=df['Sales'],data=df)\n",
    "plt.show()"
   ]
  },
  {
   "cell_type": "markdown",
   "id": "55fbff12",
   "metadata": {},
   "source": [
    "Line Plot: A line plot visualizes data by connecting the data points via line segments. It is similar to a scatter plot except that the measurement points are ordered (typically by their x-axis value) and joined with straight line segments."
   ]
  },
  {
   "cell_type": "code",
   "execution_count": 48,
   "id": "0e4960ac",
   "metadata": {},
   "outputs": [
    {
     "data": {
      "image/png": "[encoded data removed]",
      "text/plain": [
       "<Figure size 1440x432 with 1 Axes>"
      ]
     },
     "metadata": {},
     "output_type": "display_data"
    }
   ],
   "source": [
    "#Line Plot\n",
    "plt.figure(figsize=(20,6))\n",
    "fig=sns.lineplot(x=df.index,y=df['Sales'],data=df)\n",
    "plt.show()"
   ]
  },
  {
   "cell_type": "markdown",
   "id": "38435ddb",
   "metadata": {},
   "source": [
    "Strip Plot: The strip plot is similar to a scatter plot. It is often used along with other kinds of plots for better analysis. It is used to visualize the distribution of data points of the variable."
   ]
  },
  {
   "cell_type": "code",
   "execution_count": 49,
   "id": "064e974f",
   "metadata": {},
   "outputs": [
    {
     "data": {
      "text/plain": [
       "<AxesSubplot:ylabel='Sales'>"
      ]
     },
     "execution_count": 49,
     "metadata": {},
     "output_type": "execute_result"
    },
    {
     "data": {
      "image/png": "[encoded data removed]",
      "text/plain": [
       "<Figure size 1440x432 with 1 Axes>"
      ]
     },
     "metadata": {},
     "output_type": "display_data"
    }
   ],
   "source": [
    "#Strip Plot\n",
    "\n",
    "plt.figure(figsize=(20,6))\n",
    "sns.stripplot(x=df.index,y=df['Sales'])"
   ]
  },
  {
   "cell_type": "markdown",
   "id": "3ab3725a",
   "metadata": {},
   "source": [
    "Swarm Plot: The swarm-plot, similar to a strip-plot, provides a visualization technique for univariate data to view the spread of values in a continuous variable. The only difference between the strip-plot and the swarm-plot is that the swarm-plot spreads out the data points of the variable automatically to avoid overlap and hence provides a better visual overview of the data."
   ]
  },
  {
   "cell_type": "code",
   "execution_count": 50,
   "id": "07717c17",
   "metadata": {},
   "outputs": [
    {
     "data": {
      "text/plain": [
       "<AxesSubplot:ylabel='Sales'>"
      ]
     },
     "execution_count": 50,
     "metadata": {},
     "output_type": "execute_result"
    },
    {
     "data": {
      "image/png": "[encoded data removed]",
      "text/plain": [
       "<Figure size 1440x504 with 1 Axes>"
      ]
     },
     "metadata": {},
     "output_type": "display_data"
    }
   ],
   "source": [
    "plt.figure(figsize=(20,7))\n",
    "sns.swarmplot(x=df.index,y=df['Sales'])"
   ]
  },
  {
   "cell_type": "markdown",
   "id": "752aa88b",
   "metadata": {},
   "source": [
    "2) Uni-variate summary plots :\n",
    "\n",
    "These plots give a more concise description of the location, dispersion, and distribution of a variable than an enumerative plot. It is not feasible to retrieve every individual data value in a summary plot, but it helps in efficiently representing the whole data from which better conclusions can be made on the entire data set."
   ]
  },
  {
   "cell_type": "markdown",
   "id": "0d35505d",
   "metadata": {},
   "source": [
    "Histogram: Histograms are similar to bar charts which display the counts or relative frequencies of values falling in different class intervals or ranges. A histogram displays the shape and spread of continuous sample data. It also helps us understand the skewness and kurtosis of the distribution of the data."
   ]
  },
  {
   "cell_type": "code",
   "execution_count": 58,
   "id": "32fb9b82",
   "metadata": {},
   "outputs": [
    {
     "data": {
      "text/plain": [
       "Text(0.5, 1.0, 'Histogram plot of Sales')"
      ]
     },
     "execution_count": 58,
     "metadata": {},
     "output_type": "execute_result"
    },
    {
     "data": {
      "image/png": "[encoded data removed]",
      "text/plain": [
       "<Figure size 432x288 with 1 Axes>"
      ]
     },
     "metadata": {},
     "output_type": "display_data"
    }
   ],
   "source": [
    "#Histogram / Distplot (in Seaborn)\n",
    "plt.figure(figsize=(6,4))\n",
    "plt.hist(df['Sales'])\n",
    "sns.set_style('whitegrid')\n",
    "plt.xlabel('Sales')\n",
    "plt.ylabel('Index')\n",
    "plt.title('Histogram plot of Sales')"
   ]
  },
  {
   "cell_type": "markdown",
   "id": "ab0595d5",
   "metadata": {},
   "source": [
    "Density Plot: A density plot is like a smoother version of a histogram. Generally, the kernel density estimate is used in density plots to show the probability density function of the variable. A continuous curve, which is the kernel is drawn to generate a smooth density estimation for the whole data."
   ]
  },
  {
   "cell_type": "code",
   "execution_count": 59,
   "id": "a20d9fff",
   "metadata": {},
   "outputs": [
    {
     "data": {
      "text/plain": [
       "<AxesSubplot:xlabel='Sales', ylabel='Density'>"
      ]
     },
     "execution_count": 59,
     "metadata": {},
     "output_type": "execute_result"
    },
    {
     "data": {
      "image/png": "[encoded data removed]",
      "text/plain": [
       "<Figure size 432x288 with 1 Axes>"
      ]
     },
     "metadata": {},
     "output_type": "display_data"
    }
   ],
   "source": [
    "#Density plot/kde plot(in seaborn)\n",
    "sns.kdeplot(df['Sales'],shade=True)"
   ]
  },
  {
   "cell_type": "markdown",
   "id": "bfac2633",
   "metadata": {},
   "source": [
    "Box Plot: A box-plot is a very useful and standardized way of displaying the distribution of data based on a five-number summary (minimum, first quartile, second quartile(median), third quartile, maximum). It helps in understanding these parameters of the distribution of data and is extremely helpful in detecting outliers."
   ]
  },
  {
   "cell_type": "code",
   "execution_count": 60,
   "id": "82b9fc50",
   "metadata": {},
   "outputs": [
    {
     "data": {
      "text/plain": [
       "<AxesSubplot:xlabel='Sales'>"
      ]
     },
     "execution_count": 60,
     "metadata": {},
     "output_type": "execute_result"
    },
    {
     "data": {
      "image/png": "[encoded data removed]",
      "text/plain": [
       "<Figure size 432x288 with 1 Axes>"
      ]
     },
     "metadata": {},
     "output_type": "display_data"
    }
   ],
   "source": [
    "#Box Plot\n",
    "sns.boxplot(df['Sales'])"
   ]
  },
  {
   "cell_type": "markdown",
   "id": "8401983c",
   "metadata": {},
   "source": [
    "Violin Plot: The Violin plot is very much similar to a box plot, with the addition of a rotated kernel density plot on each side. It shows the distribution of quantitative data across several levels of one (or more) categorical variables such that those distributions can be compared."
   ]
  },
  {
   "cell_type": "code",
   "execution_count": 62,
   "id": "4923a59e",
   "metadata": {},
   "outputs": [
    {
     "data": {
      "text/plain": [
       "<AxesSubplot:xlabel='Sales'>"
      ]
     },
     "execution_count": 62,
     "metadata": {},
     "output_type": "execute_result"
    },
    {
     "data": {
      "image/png": "[encoded data removed]",
      "text/plain": [
       "<Figure size 432x288 with 1 Axes>"
      ]
     },
     "metadata": {},
     "output_type": "display_data"
    }
   ],
   "source": [
    "sns.violinplot(df['Sales'])"
   ]
  },
  {
   "cell_type": "code",
   "execution_count": 65,
   "id": "eb1ec25b",
   "metadata": {},
   "outputs": [
    {
     "data": {
      "text/html": [
       "<div>\n",
       "<style scoped>\n",
       "    .dataframe tbody tr th:only-of-type {\n",
       "        vertical-align: middle;\n",
       "    }\n",
       "\n",
       "    .dataframe tbody tr th {\n",
       "        vertical-align: top;\n",
       "    }\n",
       "\n",
       "    .dataframe thead th {\n",
       "        text-align: right;\n",
       "    }\n",
       "</style>\n",
       "<table border=\"1\" class=\"dataframe\">\n",
       "  <thead>\n",
       "    <tr style=\"text-align: right;\">\n",
       "      <th></th>\n",
       "      <th>Date</th>\n",
       "      <th>Sales</th>\n",
       "    </tr>\n",
       "  </thead>\n",
       "  <tbody>\n",
       "    <tr>\n",
       "      <th>0</th>\n",
       "      <td>01-04-2004</td>\n",
       "      <td>6.586639e+08</td>\n",
       "    </tr>\n",
       "    <tr>\n",
       "      <th>1</th>\n",
       "      <td>01-08-2004</td>\n",
       "      <td>6.718275e+08</td>\n",
       "    </tr>\n",
       "    <tr>\n",
       "      <th>2</th>\n",
       "      <td>01-07-2004</td>\n",
       "      <td>6.771148e+08</td>\n",
       "    </tr>\n",
       "    <tr>\n",
       "      <th>3</th>\n",
       "      <td>01-09-2004</td>\n",
       "      <td>6.781078e+08</td>\n",
       "    </tr>\n",
       "    <tr>\n",
       "      <th>4</th>\n",
       "      <td>01-06-2004</td>\n",
       "      <td>6.796056e+08</td>\n",
       "    </tr>\n",
       "    <tr>\n",
       "      <th>...</th>\n",
       "      <td>...</td>\n",
       "      <td>...</td>\n",
       "    </tr>\n",
       "    <tr>\n",
       "      <th>149</th>\n",
       "      <td>01-04-2016</td>\n",
       "      <td>1.885490e+09</td>\n",
       "    </tr>\n",
       "    <tr>\n",
       "      <th>150</th>\n",
       "      <td>01-05-2016</td>\n",
       "      <td>1.981352e+09</td>\n",
       "    </tr>\n",
       "    <tr>\n",
       "      <th>151</th>\n",
       "      <td>01-06-2016</td>\n",
       "      <td>2.038882e+09</td>\n",
       "    </tr>\n",
       "    <tr>\n",
       "      <th>152</th>\n",
       "      <td>01-07-2016</td>\n",
       "      <td>2.260256e+09</td>\n",
       "    </tr>\n",
       "    <tr>\n",
       "      <th>153</th>\n",
       "      <td>01-03-2016</td>\n",
       "      <td>NaN</td>\n",
       "    </tr>\n",
       "  </tbody>\n",
       "</table>\n",
       "<p>154 rows × 2 columns</p>\n",
       "</div>"
      ],
      "text/plain": [
       "           Date         Sales\n",
       "0    01-04-2004  6.586639e+08\n",
       "1    01-08-2004  6.718275e+08\n",
       "2    01-07-2004  6.771148e+08\n",
       "3    01-09-2004  6.781078e+08\n",
       "4    01-06-2004  6.796056e+08\n",
       "..          ...           ...\n",
       "149  01-04-2016  1.885490e+09\n",
       "150  01-05-2016  1.981352e+09\n",
       "151  01-06-2016  2.038882e+09\n",
       "152  01-07-2016  2.260256e+09\n",
       "153  01-03-2016           NaN\n",
       "\n",
       "[154 rows x 2 columns]"
      ]
     },
     "execution_count": 65,
     "metadata": {},
     "output_type": "execute_result"
    }
   ],
   "source": [
    "data=pd.read_csv(\"Demand Forecasting Data.csv\")\n",
    "data"
   ]
  },
  {
   "cell_type": "code",
   "execution_count": 66,
   "id": "d85fd208",
   "metadata": {},
   "outputs": [
    {
     "data": {
      "text/plain": [
       "Date     0\n",
       "Sales    0\n",
       "dtype: int64"
      ]
     },
     "execution_count": 66,
     "metadata": {},
     "output_type": "execute_result"
    }
   ],
   "source": [
    "df=data.dropna()\n",
    "df.isnull().sum()"
   ]
  },
  {
   "cell_type": "code",
   "execution_count": 68,
   "id": "b82d7637",
   "metadata": {},
   "outputs": [],
   "source": [
    "roc_data = decompose['Sales'].pct_change()"
   ]
  },
  {
   "cell_type": "code",
   "execution_count": 69,
   "id": "ce7b464d",
   "metadata": {},
   "outputs": [],
   "source": [
    "roc_data = pd.DataFrame({\n",
    "    \"Date\":decompose[\"Date\"],\n",
    "    \"Rate of change (%)\": roc_data\n",
    "})"
   ]
  },
  {
   "cell_type": "code",
   "execution_count": 75,
   "id": "20375195",
   "metadata": {},
   "outputs": [
    {
     "data": {
      "text/html": [
       "<div>\n",
       "<style scoped>\n",
       "    .dataframe tbody tr th:only-of-type {\n",
       "        vertical-align: middle;\n",
       "    }\n",
       "\n",
       "    .dataframe tbody tr th {\n",
       "        vertical-align: top;\n",
       "    }\n",
       "\n",
       "    .dataframe thead th {\n",
       "        text-align: right;\n",
       "    }\n",
       "</style>\n",
       "<table border=\"1\" class=\"dataframe\">\n",
       "  <thead>\n",
       "    <tr style=\"text-align: right;\">\n",
       "      <th></th>\n",
       "      <th>Date</th>\n",
       "      <th>Rate of change (%)</th>\n",
       "    </tr>\n",
       "  </thead>\n",
       "  <tbody>\n",
       "    <tr>\n",
       "      <th>0</th>\n",
       "      <td>01-04-2004</td>\n",
       "      <td>NaN</td>\n",
       "    </tr>\n",
       "    <tr>\n",
       "      <th>1</th>\n",
       "      <td>01-08-2004</td>\n",
       "      <td>0.019985</td>\n",
       "    </tr>\n",
       "    <tr>\n",
       "      <th>2</th>\n",
       "      <td>01-07-2004</td>\n",
       "      <td>0.007870</td>\n",
       "    </tr>\n",
       "    <tr>\n",
       "      <th>3</th>\n",
       "      <td>01-09-2004</td>\n",
       "      <td>0.001467</td>\n",
       "    </tr>\n",
       "    <tr>\n",
       "      <th>4</th>\n",
       "      <td>01-06-2004</td>\n",
       "      <td>0.002209</td>\n",
       "    </tr>\n",
       "  </tbody>\n",
       "</table>\n",
       "</div>"
      ],
      "text/plain": [
       "         Date  Rate of change (%)\n",
       "0  01-04-2004                 NaN\n",
       "1  01-08-2004            0.019985\n",
       "2  01-07-2004            0.007870\n",
       "3  01-09-2004            0.001467\n",
       "4  01-06-2004            0.002209"
      ]
     },
     "execution_count": 75,
     "metadata": {},
     "output_type": "execute_result"
    }
   ],
   "source": [
    "roc_data.head()"
   ]
  },
  {
   "cell_type": "code",
   "execution_count": 78,
   "id": "384fed7b",
   "metadata": {},
   "outputs": [
    {
     "data": {
      "text/plain": [
       "<AxesSubplot:>"
      ]
     },
     "execution_count": 78,
     "metadata": {},
     "output_type": "execute_result"
    },
    {
     "data": {
      "image/png": "[encoded data removed]",
      "text/plain": [
       "<Figure size 1440x288 with 1 Axes>"
      ]
     },
     "metadata": {},
     "output_type": "display_data"
    }
   ],
   "source": [
    "roc_data.plot(figsize=(20,4))"
   ]
  },
  {
   "cell_type": "code",
   "execution_count": 70,
   "id": "7488c8fd",
   "metadata": {},
   "outputs": [],
   "source": [
    "# change_of_data = decompose['Date'].groupby()\n",
    "decompose['year'] = [yr.split('-')[2] for yr in decompose['Date']]"
   ]
  },
  {
   "cell_type": "code",
   "execution_count": 72,
   "id": "dfe5eb2a",
   "metadata": {},
   "outputs": [],
   "source": [
    "change_of_data = decompose.groupby(['year'])['Sales'].describe()"
   ]
  },
  {
   "cell_type": "code",
   "execution_count": 76,
   "id": "5e895e88",
   "metadata": {},
   "outputs": [
    {
     "data": {
      "text/html": [
       "<div>\n",
       "<style scoped>\n",
       "    .dataframe tbody tr th:only-of-type {\n",
       "        vertical-align: middle;\n",
       "    }\n",
       "\n",
       "    .dataframe tbody tr th {\n",
       "        vertical-align: top;\n",
       "    }\n",
       "\n",
       "    .dataframe thead th {\n",
       "        text-align: right;\n",
       "    }\n",
       "</style>\n",
       "<table border=\"1\" class=\"dataframe\">\n",
       "  <thead>\n",
       "    <tr style=\"text-align: right;\">\n",
       "      <th></th>\n",
       "      <th>count</th>\n",
       "      <th>mean</th>\n",
       "      <th>std</th>\n",
       "      <th>min</th>\n",
       "      <th>25%</th>\n",
       "      <th>50%</th>\n",
       "      <th>75%</th>\n",
       "      <th>max</th>\n",
       "    </tr>\n",
       "    <tr>\n",
       "      <th>year</th>\n",
       "      <th></th>\n",
       "      <th></th>\n",
       "      <th></th>\n",
       "      <th></th>\n",
       "      <th></th>\n",
       "      <th></th>\n",
       "      <th></th>\n",
       "      <th></th>\n",
       "    </tr>\n",
       "  </thead>\n",
       "  <tbody>\n",
       "    <tr>\n",
       "      <th>2004</th>\n",
       "      <td>10.0</td>\n",
       "      <td>6.863651e+08</td>\n",
       "      <td>1.897720e+07</td>\n",
       "      <td>658663892.3</td>\n",
       "      <td>6.773630e+08</td>\n",
       "      <td>6.817282e+08</td>\n",
       "      <td>6.929269e+08</td>\n",
       "      <td>723686258.1</td>\n",
       "    </tr>\n",
       "    <tr>\n",
       "      <th>2005</th>\n",
       "      <td>12.0</td>\n",
       "      <td>6.412815e+08</td>\n",
       "      <td>3.394231e+07</td>\n",
       "      <td>567065057.2</td>\n",
       "      <td>6.392017e+08</td>\n",
       "      <td>6.525121e+08</td>\n",
       "      <td>6.635139e+08</td>\n",
       "      <td>673435229.6</td>\n",
       "    </tr>\n",
       "    <tr>\n",
       "      <th>2006</th>\n",
       "      <td>10.0</td>\n",
       "      <td>6.442555e+08</td>\n",
       "      <td>2.613824e+07</td>\n",
       "      <td>587831693.4</td>\n",
       "      <td>6.397840e+08</td>\n",
       "      <td>6.494555e+08</td>\n",
       "      <td>6.610267e+08</td>\n",
       "      <td>671721700.4</td>\n",
       "    </tr>\n",
       "    <tr>\n",
       "      <th>2007</th>\n",
       "      <td>12.0</td>\n",
       "      <td>6.411663e+08</td>\n",
       "      <td>4.118583e+07</td>\n",
       "      <td>552068279.8</td>\n",
       "      <td>6.265704e+08</td>\n",
       "      <td>6.523631e+08</td>\n",
       "      <td>6.669429e+08</td>\n",
       "      <td>691223502.6</td>\n",
       "    </tr>\n",
       "    <tr>\n",
       "      <th>2008</th>\n",
       "      <td>11.0</td>\n",
       "      <td>6.558044e+08</td>\n",
       "      <td>5.399060e+07</td>\n",
       "      <td>578885258.8</td>\n",
       "      <td>6.091068e+08</td>\n",
       "      <td>6.572016e+08</td>\n",
       "      <td>6.992919e+08</td>\n",
       "      <td>728308287.6</td>\n",
       "    </tr>\n",
       "  </tbody>\n",
       "</table>\n",
       "</div>"
      ],
      "text/plain": [
       "      count          mean           std          min           25%  \\\n",
       "year                                                                 \n",
       "2004   10.0  6.863651e+08  1.897720e+07  658663892.3  6.773630e+08   \n",
       "2005   12.0  6.412815e+08  3.394231e+07  567065057.2  6.392017e+08   \n",
       "2006   10.0  6.442555e+08  2.613824e+07  587831693.4  6.397840e+08   \n",
       "2007   12.0  6.411663e+08  4.118583e+07  552068279.8  6.265704e+08   \n",
       "2008   11.0  6.558044e+08  5.399060e+07  578885258.8  6.091068e+08   \n",
       "\n",
       "               50%           75%          max  \n",
       "year                                           \n",
       "2004  6.817282e+08  6.929269e+08  723686258.1  \n",
       "2005  6.525121e+08  6.635139e+08  673435229.6  \n",
       "2006  6.494555e+08  6.610267e+08  671721700.4  \n",
       "2007  6.523631e+08  6.669429e+08  691223502.6  \n",
       "2008  6.572016e+08  6.992919e+08  728308287.6  "
      ]
     },
     "execution_count": 76,
     "metadata": {},
     "output_type": "execute_result"
    }
   ],
   "source": [
    "change_of_data.head()"
   ]
  },
  {
   "cell_type": "code",
   "execution_count": 82,
   "id": "274c1fe9",
   "metadata": {},
   "outputs": [
    {
     "data": {
      "text/plain": [
       "<AxesSubplot:xlabel='year'>"
      ]
     },
     "execution_count": 82,
     "metadata": {},
     "output_type": "execute_result"
    },
    {
     "data": {
      "image/png": "[encoded data removed]",
      "text/plain": [
       "<Figure size 1440x360 with 1 Axes>"
      ]
     },
     "metadata": {},
     "output_type": "display_data"
    }
   ],
   "source": [
    "change_of_data.plot(figsize=(20,5))"
   ]
  },
  {
   "cell_type": "code",
   "execution_count": null,
   "id": "7b7f8c19",
   "metadata": {},
   "outputs": [],
   "source": []
  },
  {
   "cell_type": "markdown",
   "id": "92a94731",
   "metadata": {},
   "source": [
    "# Bivariate Analysis"
   ]
  },
  {
   "cell_type": "code",
   "execution_count": 98,
   "id": "de772807",
   "metadata": {},
   "outputs": [],
   "source": [
    "import pandas as pd\n",
    "import numpy as np\n",
    "import matplotlib.pyplot as plt\n",
    "from datetime import datetime, timedelta\n",
    "import pickle\n",
    "import seaborn as sns\n",
    "import statsmodels.api as sm\n",
    "from statsmodels.tsa.seasonal import seasonal_decompose\n",
    "from statsmodels.tsa.stattools import adfuller\n",
    "from statsmodels.tsa.stattools import acf, pacf\n",
    "from statsmodels.tsa.arima_model import ARIMA\n",
    "from sklearn.model_selection import train_test_split\n",
    "from sklearn.metrics import r2_score\n",
    "from sklearn import metrics\n",
    "from sklearn.metrics import mean_absolute_error, \\\n",
    "    mean_squared_error, mean_absolute_percentage_error\n",
    "import warnings\n",
    "warnings.filterwarnings('ignore')"
   ]
  },
  {
   "cell_type": "code",
   "execution_count": 114,
   "id": "248e76c9",
   "metadata": {},
   "outputs": [
    {
     "data": {
      "text/html": [
       "<div>\n",
       "<style scoped>\n",
       "    .dataframe tbody tr th:only-of-type {\n",
       "        vertical-align: middle;\n",
       "    }\n",
       "\n",
       "    .dataframe tbody tr th {\n",
       "        vertical-align: top;\n",
       "    }\n",
       "\n",
       "    .dataframe thead th {\n",
       "        text-align: right;\n",
       "    }\n",
       "</style>\n",
       "<table border=\"1\" class=\"dataframe\">\n",
       "  <thead>\n",
       "    <tr style=\"text-align: right;\">\n",
       "      <th></th>\n",
       "      <th>Monthly_sales_total</th>\n",
       "      <th>Market__Share</th>\n",
       "      <th>Expected_consumers_income_millions</th>\n",
       "      <th>Health_Consciousness_Rate</th>\n",
       "      <th>Personal_Consumption_Expenditures</th>\n",
       "      <th>Population_growth</th>\n",
       "      <th>Total_Market_Size_Monthly</th>\n",
       "      <th>Price_Per_Unit</th>\n",
       "      <th>Advertising_costs</th>\n",
       "      <th>Number_of_Distributors</th>\n",
       "      <th>Number_of_Retail_Locations</th>\n",
       "      <th>Discount_Percentage</th>\n",
       "      <th>Temperature</th>\n",
       "      <th>NORTH_REGION</th>\n",
       "      <th>SOUTH_REGION</th>\n",
       "    </tr>\n",
       "    <tr>\n",
       "      <th>Date</th>\n",
       "      <th></th>\n",
       "      <th></th>\n",
       "      <th></th>\n",
       "      <th></th>\n",
       "      <th></th>\n",
       "      <th></th>\n",
       "      <th></th>\n",
       "      <th></th>\n",
       "      <th></th>\n",
       "      <th></th>\n",
       "      <th></th>\n",
       "      <th></th>\n",
       "      <th></th>\n",
       "      <th></th>\n",
       "      <th></th>\n",
       "    </tr>\n",
       "  </thead>\n",
       "  <tbody>\n",
       "    <tr>\n",
       "      <th>2004-01-04</th>\n",
       "      <td>658663892.3</td>\n",
       "      <td>31.6</td>\n",
       "      <td>359.461549</td>\n",
       "      <td>5.6</td>\n",
       "      <td>8141.6</td>\n",
       "      <td>188311455.7</td>\n",
       "      <td>2.274379e+09</td>\n",
       "      <td>NaN</td>\n",
       "      <td>7373622.123</td>\n",
       "      <td>17.0</td>\n",
       "      <td>4.0</td>\n",
       "      <td>5.7</td>\n",
       "      <td>33</td>\n",
       "      <td>NaN</td>\n",
       "      <td>NaN</td>\n",
       "    </tr>\n",
       "    <tr>\n",
       "      <th>2004-01-08</th>\n",
       "      <td>671827494.7</td>\n",
       "      <td>26.1</td>\n",
       "      <td>360.208734</td>\n",
       "      <td>5.4</td>\n",
       "      <td>8294.4</td>\n",
       "      <td>188957344.5</td>\n",
       "      <td>2.744949e+09</td>\n",
       "      <td>10.9</td>\n",
       "      <td>6808533.725</td>\n",
       "      <td>13.0</td>\n",
       "      <td>3.0</td>\n",
       "      <td>6.0</td>\n",
       "      <td>36</td>\n",
       "      <td>398894100.7</td>\n",
       "      <td>277197595.4</td>\n",
       "    </tr>\n",
       "    <tr>\n",
       "      <th>2004-01-07</th>\n",
       "      <td>677114762.8</td>\n",
       "      <td>28.2</td>\n",
       "      <td>360.036253</td>\n",
       "      <td>5.5</td>\n",
       "      <td>8270.7</td>\n",
       "      <td>188728886.5</td>\n",
       "      <td>2.537007e+09</td>\n",
       "      <td>10.8</td>\n",
       "      <td>6650320.945</td>\n",
       "      <td>21.0</td>\n",
       "      <td>5.0</td>\n",
       "      <td>7.9</td>\n",
       "      <td>30</td>\n",
       "      <td>170024474.4</td>\n",
       "      <td>459695801.3</td>\n",
       "    </tr>\n",
       "    <tr>\n",
       "      <th>2004-01-09</th>\n",
       "      <td>678107834.5</td>\n",
       "      <td>24.3</td>\n",
       "      <td>360.636253</td>\n",
       "      <td>5.4</td>\n",
       "      <td>8373.0</td>\n",
       "      <td>189226848.5</td>\n",
       "      <td>3.032001e+09</td>\n",
       "      <td>9.7</td>\n",
       "      <td>6926868.075</td>\n",
       "      <td>22.0</td>\n",
       "      <td>6.0</td>\n",
       "      <td>6.3</td>\n",
       "      <td>26</td>\n",
       "      <td>292047024.3</td>\n",
       "      <td>371696212.8</td>\n",
       "    </tr>\n",
       "    <tr>\n",
       "      <th>2004-01-06</th>\n",
       "      <td>679605633.4</td>\n",
       "      <td>28.2</td>\n",
       "      <td>359.836253</td>\n",
       "      <td>5.6</td>\n",
       "      <td>8204.6</td>\n",
       "      <td>188686441.1</td>\n",
       "      <td>2.554173e+09</td>\n",
       "      <td>8.4</td>\n",
       "      <td>6957573.258</td>\n",
       "      <td>23.0</td>\n",
       "      <td>6.0</td>\n",
       "      <td>8.0</td>\n",
       "      <td>22</td>\n",
       "      <td>318668762.7</td>\n",
       "      <td>345224492.9</td>\n",
       "    </tr>\n",
       "  </tbody>\n",
       "</table>\n",
       "</div>"
      ],
      "text/plain": [
       "            Monthly_sales_total  Market__Share  \\\n",
       "Date                                             \n",
       "2004-01-04          658663892.3           31.6   \n",
       "2004-01-08          671827494.7           26.1   \n",
       "2004-01-07          677114762.8           28.2   \n",
       "2004-01-09          678107834.5           24.3   \n",
       "2004-01-06          679605633.4           28.2   \n",
       "\n",
       "            Expected_consumers_income_millions  Health_Consciousness_Rate  \\\n",
       "Date                                                                        \n",
       "2004-01-04                          359.461549                        5.6   \n",
       "2004-01-08                          360.208734                        5.4   \n",
       "2004-01-07                          360.036253                        5.5   \n",
       "2004-01-09                          360.636253                        5.4   \n",
       "2004-01-06                          359.836253                        5.6   \n",
       "\n",
       "            Personal_Consumption_Expenditures  Population_growth  \\\n",
       "Date                                                               \n",
       "2004-01-04                             8141.6        188311455.7   \n",
       "2004-01-08                             8294.4        188957344.5   \n",
       "2004-01-07                             8270.7        188728886.5   \n",
       "2004-01-09                             8373.0        189226848.5   \n",
       "2004-01-06                             8204.6        188686441.1   \n",
       "\n",
       "            Total_Market_Size_Monthly  Price_Per_Unit  Advertising_costs  \\\n",
       "Date                                                                       \n",
       "2004-01-04               2.274379e+09             NaN        7373622.123   \n",
       "2004-01-08               2.744949e+09            10.9        6808533.725   \n",
       "2004-01-07               2.537007e+09            10.8        6650320.945   \n",
       "2004-01-09               3.032001e+09             9.7        6926868.075   \n",
       "2004-01-06               2.554173e+09             8.4        6957573.258   \n",
       "\n",
       "            Number_of_Distributors  Number_of_Retail_Locations  \\\n",
       "Date                                                             \n",
       "2004-01-04                    17.0                         4.0   \n",
       "2004-01-08                    13.0                         3.0   \n",
       "2004-01-07                    21.0                         5.0   \n",
       "2004-01-09                    22.0                         6.0   \n",
       "2004-01-06                    23.0                         6.0   \n",
       "\n",
       "            Discount_Percentage  Temperature  NORTH_REGION  SOUTH_REGION  \n",
       "Date                                                                      \n",
       "2004-01-04                  5.7           33           NaN           NaN  \n",
       "2004-01-08                  6.0           36   398894100.7   277197595.4  \n",
       "2004-01-07                  7.9           30   170024474.4   459695801.3  \n",
       "2004-01-09                  6.3           26   292047024.3   371696212.8  \n",
       "2004-01-06                  8.0           22   318668762.7   345224492.9  "
      ]
     },
     "execution_count": 114,
     "metadata": {},
     "output_type": "execute_result"
    }
   ],
   "source": [
    "data=pd.read_csv('Products_Data2.csv', parse_dates=['Date'], index_col='Date')\n",
    "data.head()"
   ]
  },
  {
   "cell_type": "code",
   "execution_count": 100,
   "id": "ab385a1b",
   "metadata": {},
   "outputs": [
    {
     "data": {
      "text/plain": [
       "Monthly_sales_total                   0\n",
       "Market__Share                         0\n",
       "Expected_consumers_income_millions    0\n",
       "Health_Consciousness_Rate             0\n",
       "Personal_Consumption_Expenditures     0\n",
       "Population_growth                     0\n",
       "Total_Market_Size_Monthly             0\n",
       "Price_Per_Unit                        0\n",
       "Advertising_costs                     0\n",
       "Number_of_Distributors                0\n",
       "Number_of_Retail_Locations            0\n",
       "Discount_Percentage                   0\n",
       "Temperature                           0\n",
       "NORTH_REGION                          0\n",
       "SOUTH_REGION                          0\n",
       "dtype: int64"
      ]
     },
     "execution_count": 100,
     "metadata": {},
     "output_type": "execute_result"
    }
   ],
   "source": [
    "data=data.dropna()\n",
    "data.isnull().sum()"
   ]
  },
  {
   "cell_type": "code",
   "execution_count": 101,
   "id": "c002521c",
   "metadata": {},
   "outputs": [
    {
     "data": {
      "text/html": [
       "<div>\n",
       "<style scoped>\n",
       "    .dataframe tbody tr th:only-of-type {\n",
       "        vertical-align: middle;\n",
       "    }\n",
       "\n",
       "    .dataframe tbody tr th {\n",
       "        vertical-align: top;\n",
       "    }\n",
       "\n",
       "    .dataframe thead th {\n",
       "        text-align: right;\n",
       "    }\n",
       "</style>\n",
       "<table border=\"1\" class=\"dataframe\">\n",
       "  <thead>\n",
       "    <tr style=\"text-align: right;\">\n",
       "      <th></th>\n",
       "      <th>Monthly_sales_total</th>\n",
       "      <th>Market__Share</th>\n",
       "      <th>Expected_consumers_income_millions</th>\n",
       "      <th>Health_Consciousness_Rate</th>\n",
       "      <th>Personal_Consumption_Expenditures</th>\n",
       "      <th>Population_growth</th>\n",
       "      <th>Total_Market_Size_Monthly</th>\n",
       "      <th>Price_Per_Unit</th>\n",
       "      <th>Advertising_costs</th>\n",
       "      <th>Number_of_Distributors</th>\n",
       "      <th>Number_of_Retail_Locations</th>\n",
       "      <th>Discount_Percentage</th>\n",
       "      <th>Temperature</th>\n",
       "      <th>NORTH_REGION</th>\n",
       "      <th>SOUTH_REGION</th>\n",
       "    </tr>\n",
       "  </thead>\n",
       "  <tbody>\n",
       "    <tr>\n",
       "      <th>count</th>\n",
       "      <td>1.230000e+02</td>\n",
       "      <td>123.000000</td>\n",
       "      <td>123.000000</td>\n",
       "      <td>123.000000</td>\n",
       "      <td>123.000000</td>\n",
       "      <td>1.230000e+02</td>\n",
       "      <td>1.230000e+02</td>\n",
       "      <td>123.000000</td>\n",
       "      <td>1.230000e+02</td>\n",
       "      <td>123.000000</td>\n",
       "      <td>123.000000</td>\n",
       "      <td>123.000000</td>\n",
       "      <td>123.000000</td>\n",
       "      <td>1.230000e+02</td>\n",
       "      <td>1.230000e+02</td>\n",
       "    </tr>\n",
       "    <tr>\n",
       "      <th>mean</th>\n",
       "      <td>9.103608e+08</td>\n",
       "      <td>29.769919</td>\n",
       "      <td>389.942317</td>\n",
       "      <td>6.569919</td>\n",
       "      <td>10527.141463</td>\n",
       "      <td>1.987514e+08</td>\n",
       "      <td>3.218278e+09</td>\n",
       "      <td>8.139837</td>\n",
       "      <td>7.059040e+06</td>\n",
       "      <td>45.268293</td>\n",
       "      <td>11.504065</td>\n",
       "      <td>8.234959</td>\n",
       "      <td>29.308943</td>\n",
       "      <td>4.500116e+08</td>\n",
       "      <td>4.406109e+08</td>\n",
       "    </tr>\n",
       "    <tr>\n",
       "      <th>std</th>\n",
       "      <td>3.393985e+08</td>\n",
       "      <td>6.628180</td>\n",
       "      <td>17.088918</td>\n",
       "      <td>1.779756</td>\n",
       "      <td>1291.779019</td>\n",
       "      <td>5.129005e+06</td>\n",
       "      <td>4.489365e+08</td>\n",
       "      <td>1.905632</td>\n",
       "      <td>7.755410e+05</td>\n",
       "      <td>39.844179</td>\n",
       "      <td>9.869122</td>\n",
       "      <td>2.799970</td>\n",
       "      <td>6.045090</td>\n",
       "      <td>2.011299e+08</td>\n",
       "      <td>2.460010e+08</td>\n",
       "    </tr>\n",
       "    <tr>\n",
       "      <th>min</th>\n",
       "      <td>5.520683e+08</td>\n",
       "      <td>21.800000</td>\n",
       "      <td>359.261550</td>\n",
       "      <td>4.400000</td>\n",
       "      <td>8121.000000</td>\n",
       "      <td>1.880935e+08</td>\n",
       "      <td>2.208069e+09</td>\n",
       "      <td>4.000000</td>\n",
       "      <td>4.811625e+06</td>\n",
       "      <td>1.000000</td>\n",
       "      <td>1.000000</td>\n",
       "      <td>3.500000</td>\n",
       "      <td>18.000000</td>\n",
       "      <td>1.593078e+08</td>\n",
       "      <td>1.376442e+08</td>\n",
       "    </tr>\n",
       "    <tr>\n",
       "      <th>25%</th>\n",
       "      <td>6.687296e+08</td>\n",
       "      <td>25.200000</td>\n",
       "      <td>375.955674</td>\n",
       "      <td>5.000000</td>\n",
       "      <td>9716.100000</td>\n",
       "      <td>1.953679e+08</td>\n",
       "      <td>2.989450e+09</td>\n",
       "      <td>6.600000</td>\n",
       "      <td>6.610488e+06</td>\n",
       "      <td>16.000000</td>\n",
       "      <td>4.000000</td>\n",
       "      <td>5.950000</td>\n",
       "      <td>24.000000</td>\n",
       "      <td>3.097366e+08</td>\n",
       "      <td>2.703901e+08</td>\n",
       "    </tr>\n",
       "    <tr>\n",
       "      <th>50%</th>\n",
       "      <td>7.469246e+08</td>\n",
       "      <td>28.200000</td>\n",
       "      <td>391.599067</td>\n",
       "      <td>5.800000</td>\n",
       "      <td>10343.700000</td>\n",
       "      <td>1.995609e+08</td>\n",
       "      <td>3.136946e+09</td>\n",
       "      <td>8.200000</td>\n",
       "      <td>7.234955e+06</td>\n",
       "      <td>28.000000</td>\n",
       "      <td>7.000000</td>\n",
       "      <td>8.400000</td>\n",
       "      <td>30.000000</td>\n",
       "      <td>4.428829e+08</td>\n",
       "      <td>3.857570e+08</td>\n",
       "    </tr>\n",
       "    <tr>\n",
       "      <th>75%</th>\n",
       "      <td>1.032681e+09</td>\n",
       "      <td>31.900000</td>\n",
       "      <td>405.110731</td>\n",
       "      <td>8.200000</td>\n",
       "      <td>11444.550000</td>\n",
       "      <td>2.025057e+08</td>\n",
       "      <td>3.581847e+09</td>\n",
       "      <td>9.650000</td>\n",
       "      <td>7.511833e+06</td>\n",
       "      <td>62.500000</td>\n",
       "      <td>16.000000</td>\n",
       "      <td>9.650000</td>\n",
       "      <td>35.000000</td>\n",
       "      <td>5.757551e+08</td>\n",
       "      <td>5.231168e+08</td>\n",
       "    </tr>\n",
       "    <tr>\n",
       "      <th>max</th>\n",
       "      <td>2.260256e+09</td>\n",
       "      <td>57.800000</td>\n",
       "      <td>422.310252</td>\n",
       "      <td>9.900000</td>\n",
       "      <td>13043.500000</td>\n",
       "      <td>2.073839e+08</td>\n",
       "      <td>4.090691e+09</td>\n",
       "      <td>11.900000</td>\n",
       "      <td>9.010420e+06</td>\n",
       "      <td>160.000000</td>\n",
       "      <td>40.000000</td>\n",
       "      <td>14.200000</td>\n",
       "      <td>39.000000</td>\n",
       "      <td>1.292197e+09</td>\n",
       "      <td>1.582179e+09</td>\n",
       "    </tr>\n",
       "  </tbody>\n",
       "</table>\n",
       "</div>"
      ],
      "text/plain": [
       "       Monthly_sales_total  Market__Share  Expected_consumers_income_millions  \\\n",
       "count         1.230000e+02     123.000000                          123.000000   \n",
       "mean          9.103608e+08      29.769919                          389.942317   \n",
       "std           3.393985e+08       6.628180                           17.088918   \n",
       "min           5.520683e+08      21.800000                          359.261550   \n",
       "25%           6.687296e+08      25.200000                          375.955674   \n",
       "50%           7.469246e+08      28.200000                          391.599067   \n",
       "75%           1.032681e+09      31.900000                          405.110731   \n",
       "max           2.260256e+09      57.800000                          422.310252   \n",
       "\n",
       "       Health_Consciousness_Rate  Personal_Consumption_Expenditures  \\\n",
       "count                 123.000000                         123.000000   \n",
       "mean                    6.569919                       10527.141463   \n",
       "std                     1.779756                        1291.779019   \n",
       "min                     4.400000                        8121.000000   \n",
       "25%                     5.000000                        9716.100000   \n",
       "50%                     5.800000                       10343.700000   \n",
       "75%                     8.200000                       11444.550000   \n",
       "max                     9.900000                       13043.500000   \n",
       "\n",
       "       Population_growth  Total_Market_Size_Monthly  Price_Per_Unit  \\\n",
       "count       1.230000e+02               1.230000e+02      123.000000   \n",
       "mean        1.987514e+08               3.218278e+09        8.139837   \n",
       "std         5.129005e+06               4.489365e+08        1.905632   \n",
       "min         1.880935e+08               2.208069e+09        4.000000   \n",
       "25%         1.953679e+08               2.989450e+09        6.600000   \n",
       "50%         1.995609e+08               3.136946e+09        8.200000   \n",
       "75%         2.025057e+08               3.581847e+09        9.650000   \n",
       "max         2.073839e+08               4.090691e+09       11.900000   \n",
       "\n",
       "       Advertising_costs  Number_of_Distributors  Number_of_Retail_Locations  \\\n",
       "count       1.230000e+02              123.000000                  123.000000   \n",
       "mean        7.059040e+06               45.268293                   11.504065   \n",
       "std         7.755410e+05               39.844179                    9.869122   \n",
       "min         4.811625e+06                1.000000                    1.000000   \n",
       "25%         6.610488e+06               16.000000                    4.000000   \n",
       "50%         7.234955e+06               28.000000                    7.000000   \n",
       "75%         7.511833e+06               62.500000                   16.000000   \n",
       "max         9.010420e+06              160.000000                   40.000000   \n",
       "\n",
       "       Discount_Percentage  Temperature  NORTH_REGION  SOUTH_REGION  \n",
       "count           123.000000   123.000000  1.230000e+02  1.230000e+02  \n",
       "mean              8.234959    29.308943  4.500116e+08  4.406109e+08  \n",
       "std               2.799970     6.045090  2.011299e+08  2.460010e+08  \n",
       "min               3.500000    18.000000  1.593078e+08  1.376442e+08  \n",
       "25%               5.950000    24.000000  3.097366e+08  2.703901e+08  \n",
       "50%               8.400000    30.000000  4.428829e+08  3.857570e+08  \n",
       "75%               9.650000    35.000000  5.757551e+08  5.231168e+08  \n",
       "max              14.200000    39.000000  1.292197e+09  1.582179e+09  "
      ]
     },
     "execution_count": 101,
     "metadata": {},
     "output_type": "execute_result"
    }
   ],
   "source": [
    "data.describe()"
   ]
  },
  {
   "cell_type": "code",
   "execution_count": 102,
   "id": "93077d5c",
   "metadata": {},
   "outputs": [
    {
     "name": "stdout",
     "output_type": "stream",
     "text": [
      "Correlation value is 0.9783346044064812\n"
     ]
    },
    {
     "data": {
      "image/png": "[encoded data removed]",
      "text/plain": [
       "<Figure size 432x288 with 1 Axes>"
      ]
     },
     "metadata": {},
     "output_type": "display_data"
    }
   ],
   "source": [
    "sns.set_style('whitegrid')\n",
    "plt.figure(figsize=(6,4))\n",
    "sns.scatterplot(x=data['Number_of_Distributors'],y=data['Monthly_sales_total'],data=data)\n",
    "data['Number_of_Distributors'].corr(data['Monthly_sales_total'])\n",
    "print(\"Correlation value is\",data['Number_of_Distributors'].corr(data['Monthly_sales_total']))\n",
    "plt.show()"
   ]
  },
  {
   "cell_type": "code",
   "execution_count": 103,
   "id": "a448efa4",
   "metadata": {},
   "outputs": [],
   "source": [
    "# Splitting the varaibles as training and testing\n",
    "X = data['Number_of_Distributors']\n",
    "y = data['Monthly_sales_total']\n",
    "X_train, X_test, y_train, y_test= train_test_split(X, y, test_size=0.49,train_size=0.5, random_state=0)"
   ]
  },
  {
   "cell_type": "code",
   "execution_count": 104,
   "id": "43fe5f1e",
   "metadata": {},
   "outputs": [
    {
     "name": "stdout",
     "output_type": "stream",
     "text": [
      "const                     5.509052e+08\n",
      "Number_of_Distributors    7.916250e+06\n",
      "dtype: float64\n",
      "                             OLS Regression Results                            \n",
      "===============================================================================\n",
      "Dep. Variable:     Monthly_sales_total   R-squared:                       0.966\n",
      "Model:                             OLS   Adj. R-squared:                  0.965\n",
      "Method:                  Least Squares   F-statistic:                     1678.\n",
      "Date:                 Wed, 23 Mar 2022   Prob (F-statistic):           4.88e-45\n",
      "Time:                         17:15:36   Log-Likelihood:                -1183.4\n",
      "No. Observations:                   61   AIC:                             2371.\n",
      "Df Residuals:                       59   BIC:                             2375.\n",
      "Df Model:                            1                                         \n",
      "Covariance Type:             nonrobust                                         \n",
      "==========================================================================================\n",
      "                             coef    std err          t      P>|t|      [0.025      0.975]\n",
      "------------------------------------------------------------------------------------------\n",
      "const                   5.509e+08   1.24e+07     44.440      0.000    5.26e+08    5.76e+08\n",
      "Number_of_Distributors  7.916e+06   1.93e+05     40.963      0.000    7.53e+06     8.3e+06\n",
      "==============================================================================\n",
      "Omnibus:                        7.668   Durbin-Watson:                   1.470\n",
      "Prob(Omnibus):                  0.022   Jarque-Bera (JB):               15.132\n",
      "Skew:                           0.023   Prob(JB):                     0.000518\n",
      "Kurtosis:                       5.440   Cond. No.                         94.9\n",
      "==============================================================================\n",
      "\n",
      "Notes:\n",
      "[1] Standard Errors assume that the covariance matrix of the errors is correctly specified.\n"
     ]
    }
   ],
   "source": [
    "# Adding a constant to get an intercept\n",
    "X_train_sm = sm.add_constant(X_train)\n",
    "# Fitting the resgression line using 'OLS'\n",
    "lr = sm.OLS(y_train, X_train_sm).fit() #Ordinary Least Square\n",
    "# Printing the parameters\n",
    "print(lr.params)\n",
    "# Performing a summary to list out all the different parameters of the regression line fitted\n",
    "print(lr.summary())"
   ]
  },
  {
   "cell_type": "code",
   "execution_count": 111,
   "id": "c61d5753",
   "metadata": {},
   "outputs": [
    {
     "data": {
      "text/plain": [
       "<AxesSubplot:xlabel='Monthly_sales_total'>"
      ]
     },
     "execution_count": 111,
     "metadata": {},
     "output_type": "execute_result"
    },
    {
     "data": {
      "image/png": "[encoded data removed]",
      "text/plain": [
       "<Figure size 432x288 with 1 Axes>"
      ]
     },
     "metadata": {},
     "output_type": "display_data"
    }
   ],
   "source": [
    " # Adding a constant to get an intercept\n",
    "X_test_sm = sm.add_constant(X_test)\n",
    "#Prediction\n",
    "y_test_pred= lr.predict(X_test_sm)\n",
    "sns.regplot(x=y_test,y=y_test_pred,ci=None,color ='red')"
   ]
  },
  {
   "cell_type": "code",
   "execution_count": 112,
   "id": "4ddec97d",
   "metadata": {},
   "outputs": [
    {
     "data": {
      "text/html": [
       "<div>\n",
       "<style scoped>\n",
       "    .dataframe tbody tr th:only-of-type {\n",
       "        vertical-align: middle;\n",
       "    }\n",
       "\n",
       "    .dataframe tbody tr th {\n",
       "        vertical-align: top;\n",
       "    }\n",
       "\n",
       "    .dataframe thead th {\n",
       "        text-align: right;\n",
       "    }\n",
       "</style>\n",
       "<table border=\"1\" class=\"dataframe\">\n",
       "  <thead>\n",
       "    <tr style=\"text-align: right;\">\n",
       "      <th></th>\n",
       "      <th>Actual</th>\n",
       "      <th>Predicted</th>\n",
       "    </tr>\n",
       "    <tr>\n",
       "      <th>Date</th>\n",
       "      <th></th>\n",
       "      <th></th>\n",
       "    </tr>\n",
       "  </thead>\n",
       "  <tbody>\n",
       "    <tr>\n",
       "      <th>2004-01-03</th>\n",
       "      <td>NaN</td>\n",
       "      <td>6.775652e+08</td>\n",
       "    </tr>\n",
       "    <tr>\n",
       "      <th>2004-01-06</th>\n",
       "      <td>NaN</td>\n",
       "      <td>7.329790e+08</td>\n",
       "    </tr>\n",
       "    <tr>\n",
       "      <th>2004-01-07</th>\n",
       "      <td>NaN</td>\n",
       "      <td>7.171465e+08</td>\n",
       "    </tr>\n",
       "    <tr>\n",
       "      <th>2004-01-08</th>\n",
       "      <td>671827494.7</td>\n",
       "      <td>NaN</td>\n",
       "    </tr>\n",
       "    <tr>\n",
       "      <th>2004-01-09</th>\n",
       "      <td>NaN</td>\n",
       "      <td>7.250627e+08</td>\n",
       "    </tr>\n",
       "  </tbody>\n",
       "</table>\n",
       "</div>"
      ],
      "text/plain": [
       "                 Actual     Predicted\n",
       "Date                                 \n",
       "2004-01-03          NaN  6.775652e+08\n",
       "2004-01-06          NaN  7.329790e+08\n",
       "2004-01-07          NaN  7.171465e+08\n",
       "2004-01-08  671827494.7           NaN\n",
       "2004-01-09          NaN  7.250627e+08"
      ]
     },
     "execution_count": 112,
     "metadata": {},
     "output_type": "execute_result"
    }
   ],
   "source": [
    "dataset = pd.DataFrame({'Actual': y_train, 'Predicted': y_test_pred})\n",
    "dataset.head()"
   ]
  },
  {
   "cell_type": "code",
   "execution_count": 113,
   "id": "3450ac3b",
   "metadata": {},
   "outputs": [
    {
     "name": "stdout",
     "output_type": "stream",
     "text": [
      "0.9415349348013571\n",
      "Mean Absolute Error: 46954356.14532874\n",
      "Mean Squared Error: 6282426562158384.0\n",
      "Root Mean Squared Error: 79261759.77202615\n",
      "Mean Absolute Percentage Error: 0.04415233462291293\n"
     ]
    }
   ],
   "source": [
    "print(r2_score(y_test,y_test_pred))\n",
    "print('Mean Absolute Error:', metrics.mean_absolute_error(y_test, y_test_pred))  \n",
    "print('Mean Squared Error:', metrics.mean_squared_error(y_test, y_test_pred))  \n",
    "print('Root Mean Squared Error:', np.sqrt(metrics.mean_squared_error(y_test, y_test_pred)))\n",
    "print('Mean Absolute Percentage Error:',metrics.mean_absolute_percentage_error(y_test, y_test_pred))"
   ]
  },
  {
   "cell_type": "code",
   "execution_count": null,
   "id": "da6bebaa",
   "metadata": {},
   "outputs": [],
   "source": []
  },
  {
   "cell_type": "markdown",
   "id": "ffb93ff2",
   "metadata": {},
   "source": [
    "# Multivariate Analysis"
   ]
  },
  {
   "cell_type": "code",
   "execution_count": 115,
   "id": "8a42af20",
   "metadata": {},
   "outputs": [],
   "source": [
    "import pandas as pd\n",
    "import numpy as np\n",
    "import matplotlib.pyplot as plt\n",
    "from datetime import datetime, timedelta\n",
    "import pickle\n",
    "import seaborn as sns\n",
    "import statsmodels.api as sm\n",
    "from statsmodels.tsa.seasonal import seasonal_decompose\n",
    "from statsmodels.tsa.stattools import adfuller\n",
    "from statsmodels.tsa.stattools import acf, pacf\n",
    "from statsmodels.tsa.arima_model import ARIMA\n",
    "from sklearn.model_selection import train_test_split\n",
    "from sklearn.metrics import r2_score\n",
    "from sklearn import metrics\n",
    "from sklearn.metrics import mean_absolute_error, \\\n",
    "    mean_squared_error, mean_absolute_percentage_error\n",
    "import warnings\n",
    "warnings.filterwarnings('ignore')"
   ]
  },
  {
   "cell_type": "code",
   "execution_count": 116,
   "id": "e7ea55d6",
   "metadata": {},
   "outputs": [
    {
     "data": {
      "text/html": [
       "<div>\n",
       "<style scoped>\n",
       "    .dataframe tbody tr th:only-of-type {\n",
       "        vertical-align: middle;\n",
       "    }\n",
       "\n",
       "    .dataframe tbody tr th {\n",
       "        vertical-align: top;\n",
       "    }\n",
       "\n",
       "    .dataframe thead th {\n",
       "        text-align: right;\n",
       "    }\n",
       "</style>\n",
       "<table border=\"1\" class=\"dataframe\">\n",
       "  <thead>\n",
       "    <tr style=\"text-align: right;\">\n",
       "      <th></th>\n",
       "      <th>Monthly_sales_total</th>\n",
       "      <th>Market__Share</th>\n",
       "      <th>Expected_consumers_income_millions</th>\n",
       "      <th>Health_Consciousness_Rate</th>\n",
       "      <th>Personal_Consumption_Expenditures</th>\n",
       "      <th>Population_growth</th>\n",
       "      <th>Total_Market_Size_Monthly</th>\n",
       "      <th>Price_Per_Unit</th>\n",
       "      <th>Advertising_costs</th>\n",
       "      <th>Number_of_Distributors</th>\n",
       "      <th>Number_of_Retail_Locations</th>\n",
       "      <th>Discount_Percentage</th>\n",
       "      <th>Temperature</th>\n",
       "      <th>NORTH_REGION</th>\n",
       "      <th>SOUTH_REGION</th>\n",
       "    </tr>\n",
       "    <tr>\n",
       "      <th>Date</th>\n",
       "      <th></th>\n",
       "      <th></th>\n",
       "      <th></th>\n",
       "      <th></th>\n",
       "      <th></th>\n",
       "      <th></th>\n",
       "      <th></th>\n",
       "      <th></th>\n",
       "      <th></th>\n",
       "      <th></th>\n",
       "      <th></th>\n",
       "      <th></th>\n",
       "      <th></th>\n",
       "      <th></th>\n",
       "      <th></th>\n",
       "    </tr>\n",
       "  </thead>\n",
       "  <tbody>\n",
       "    <tr>\n",
       "      <th>2004-01-04</th>\n",
       "      <td>658663892.3</td>\n",
       "      <td>31.6</td>\n",
       "      <td>359.461549</td>\n",
       "      <td>5.6</td>\n",
       "      <td>8141.6</td>\n",
       "      <td>188311455.7</td>\n",
       "      <td>2.274379e+09</td>\n",
       "      <td>NaN</td>\n",
       "      <td>7373622.123</td>\n",
       "      <td>17.0</td>\n",
       "      <td>4.0</td>\n",
       "      <td>5.7</td>\n",
       "      <td>33</td>\n",
       "      <td>NaN</td>\n",
       "      <td>NaN</td>\n",
       "    </tr>\n",
       "    <tr>\n",
       "      <th>2004-01-08</th>\n",
       "      <td>671827494.7</td>\n",
       "      <td>26.1</td>\n",
       "      <td>360.208734</td>\n",
       "      <td>5.4</td>\n",
       "      <td>8294.4</td>\n",
       "      <td>188957344.5</td>\n",
       "      <td>2.744949e+09</td>\n",
       "      <td>10.9</td>\n",
       "      <td>6808533.725</td>\n",
       "      <td>13.0</td>\n",
       "      <td>3.0</td>\n",
       "      <td>6.0</td>\n",
       "      <td>36</td>\n",
       "      <td>398894100.7</td>\n",
       "      <td>277197595.4</td>\n",
       "    </tr>\n",
       "    <tr>\n",
       "      <th>2004-01-07</th>\n",
       "      <td>677114762.8</td>\n",
       "      <td>28.2</td>\n",
       "      <td>360.036253</td>\n",
       "      <td>5.5</td>\n",
       "      <td>8270.7</td>\n",
       "      <td>188728886.5</td>\n",
       "      <td>2.537007e+09</td>\n",
       "      <td>10.8</td>\n",
       "      <td>6650320.945</td>\n",
       "      <td>21.0</td>\n",
       "      <td>5.0</td>\n",
       "      <td>7.9</td>\n",
       "      <td>30</td>\n",
       "      <td>170024474.4</td>\n",
       "      <td>459695801.3</td>\n",
       "    </tr>\n",
       "    <tr>\n",
       "      <th>2004-01-09</th>\n",
       "      <td>678107834.5</td>\n",
       "      <td>24.3</td>\n",
       "      <td>360.636253</td>\n",
       "      <td>5.4</td>\n",
       "      <td>8373.0</td>\n",
       "      <td>189226848.5</td>\n",
       "      <td>3.032001e+09</td>\n",
       "      <td>9.7</td>\n",
       "      <td>6926868.075</td>\n",
       "      <td>22.0</td>\n",
       "      <td>6.0</td>\n",
       "      <td>6.3</td>\n",
       "      <td>26</td>\n",
       "      <td>292047024.3</td>\n",
       "      <td>371696212.8</td>\n",
       "    </tr>\n",
       "    <tr>\n",
       "      <th>2004-01-06</th>\n",
       "      <td>679605633.4</td>\n",
       "      <td>28.2</td>\n",
       "      <td>359.836253</td>\n",
       "      <td>5.6</td>\n",
       "      <td>8204.6</td>\n",
       "      <td>188686441.1</td>\n",
       "      <td>2.554173e+09</td>\n",
       "      <td>8.4</td>\n",
       "      <td>6957573.258</td>\n",
       "      <td>23.0</td>\n",
       "      <td>6.0</td>\n",
       "      <td>8.0</td>\n",
       "      <td>22</td>\n",
       "      <td>318668762.7</td>\n",
       "      <td>345224492.9</td>\n",
       "    </tr>\n",
       "  </tbody>\n",
       "</table>\n",
       "</div>"
      ],
      "text/plain": [
       "            Monthly_sales_total  Market__Share  \\\n",
       "Date                                             \n",
       "2004-01-04          658663892.3           31.6   \n",
       "2004-01-08          671827494.7           26.1   \n",
       "2004-01-07          677114762.8           28.2   \n",
       "2004-01-09          678107834.5           24.3   \n",
       "2004-01-06          679605633.4           28.2   \n",
       "\n",
       "            Expected_consumers_income_millions  Health_Consciousness_Rate  \\\n",
       "Date                                                                        \n",
       "2004-01-04                          359.461549                        5.6   \n",
       "2004-01-08                          360.208734                        5.4   \n",
       "2004-01-07                          360.036253                        5.5   \n",
       "2004-01-09                          360.636253                        5.4   \n",
       "2004-01-06                          359.836253                        5.6   \n",
       "\n",
       "            Personal_Consumption_Expenditures  Population_growth  \\\n",
       "Date                                                               \n",
       "2004-01-04                             8141.6        188311455.7   \n",
       "2004-01-08                             8294.4        188957344.5   \n",
       "2004-01-07                             8270.7        188728886.5   \n",
       "2004-01-09                             8373.0        189226848.5   \n",
       "2004-01-06                             8204.6        188686441.1   \n",
       "\n",
       "            Total_Market_Size_Monthly  Price_Per_Unit  Advertising_costs  \\\n",
       "Date                                                                       \n",
       "2004-01-04               2.274379e+09             NaN        7373622.123   \n",
       "2004-01-08               2.744949e+09            10.9        6808533.725   \n",
       "2004-01-07               2.537007e+09            10.8        6650320.945   \n",
       "2004-01-09               3.032001e+09             9.7        6926868.075   \n",
       "2004-01-06               2.554173e+09             8.4        6957573.258   \n",
       "\n",
       "            Number_of_Distributors  Number_of_Retail_Locations  \\\n",
       "Date                                                             \n",
       "2004-01-04                    17.0                         4.0   \n",
       "2004-01-08                    13.0                         3.0   \n",
       "2004-01-07                    21.0                         5.0   \n",
       "2004-01-09                    22.0                         6.0   \n",
       "2004-01-06                    23.0                         6.0   \n",
       "\n",
       "            Discount_Percentage  Temperature  NORTH_REGION  SOUTH_REGION  \n",
       "Date                                                                      \n",
       "2004-01-04                  5.7           33           NaN           NaN  \n",
       "2004-01-08                  6.0           36   398894100.7   277197595.4  \n",
       "2004-01-07                  7.9           30   170024474.4   459695801.3  \n",
       "2004-01-09                  6.3           26   292047024.3   371696212.8  \n",
       "2004-01-06                  8.0           22   318668762.7   345224492.9  "
      ]
     },
     "execution_count": 116,
     "metadata": {},
     "output_type": "execute_result"
    }
   ],
   "source": [
    "data=pd.read_csv('Products_Data2.csv', parse_dates=['Date'], index_col='Date')\n",
    "data.head()"
   ]
  },
  {
   "cell_type": "code",
   "execution_count": 117,
   "id": "dfbd540e",
   "metadata": {},
   "outputs": [
    {
     "data": {
      "text/plain": [
       "Monthly_sales_total                   0\n",
       "Market__Share                         0\n",
       "Expected_consumers_income_millions    0\n",
       "Health_Consciousness_Rate             0\n",
       "Personal_Consumption_Expenditures     0\n",
       "Population_growth                     0\n",
       "Total_Market_Size_Monthly             0\n",
       "Price_Per_Unit                        0\n",
       "Advertising_costs                     0\n",
       "Number_of_Distributors                0\n",
       "Number_of_Retail_Locations            0\n",
       "Discount_Percentage                   0\n",
       "Temperature                           0\n",
       "NORTH_REGION                          0\n",
       "SOUTH_REGION                          0\n",
       "dtype: int64"
      ]
     },
     "execution_count": 117,
     "metadata": {},
     "output_type": "execute_result"
    }
   ],
   "source": [
    "data=data.dropna()\n",
    "data.isnull().sum()"
   ]
  },
  {
   "cell_type": "code",
   "execution_count": 130,
   "id": "14ea19c6",
   "metadata": {},
   "outputs": [
    {
     "data": {
      "text/html": [
       "<div>\n",
       "<style scoped>\n",
       "    .dataframe tbody tr th:only-of-type {\n",
       "        vertical-align: middle;\n",
       "    }\n",
       "\n",
       "    .dataframe tbody tr th {\n",
       "        vertical-align: top;\n",
       "    }\n",
       "\n",
       "    .dataframe thead th {\n",
       "        text-align: right;\n",
       "    }\n",
       "</style>\n",
       "<table border=\"1\" class=\"dataframe\">\n",
       "  <thead>\n",
       "    <tr style=\"text-align: right;\">\n",
       "      <th></th>\n",
       "      <th>Monthly_sales_total</th>\n",
       "      <th>Market__Share</th>\n",
       "      <th>Expected_consumers_income_millions</th>\n",
       "      <th>Health_Consciousness_Rate</th>\n",
       "      <th>Personal_Consumption_Expenditures</th>\n",
       "      <th>Population_growth</th>\n",
       "      <th>Total_Market_Size_Monthly</th>\n",
       "      <th>Price_Per_Unit</th>\n",
       "      <th>Advertising_costs</th>\n",
       "      <th>Number_of_Distributors</th>\n",
       "      <th>Number_of_Retail_Locations</th>\n",
       "      <th>Discount_Percentage</th>\n",
       "      <th>Temperature</th>\n",
       "      <th>NORTH_REGION</th>\n",
       "      <th>SOUTH_REGION</th>\n",
       "    </tr>\n",
       "  </thead>\n",
       "  <tbody>\n",
       "    <tr>\n",
       "      <th>count</th>\n",
       "      <td>1.230000e+02</td>\n",
       "      <td>123.000000</td>\n",
       "      <td>123.000000</td>\n",
       "      <td>123.000000</td>\n",
       "      <td>123.000000</td>\n",
       "      <td>1.230000e+02</td>\n",
       "      <td>1.230000e+02</td>\n",
       "      <td>123.000000</td>\n",
       "      <td>1.230000e+02</td>\n",
       "      <td>123.000000</td>\n",
       "      <td>123.000000</td>\n",
       "      <td>123.000000</td>\n",
       "      <td>123.000000</td>\n",
       "      <td>1.230000e+02</td>\n",
       "      <td>1.230000e+02</td>\n",
       "    </tr>\n",
       "    <tr>\n",
       "      <th>mean</th>\n",
       "      <td>9.103608e+08</td>\n",
       "      <td>29.769919</td>\n",
       "      <td>389.942317</td>\n",
       "      <td>6.569919</td>\n",
       "      <td>10527.141463</td>\n",
       "      <td>1.987514e+08</td>\n",
       "      <td>3.218278e+09</td>\n",
       "      <td>8.139837</td>\n",
       "      <td>7.059040e+06</td>\n",
       "      <td>45.268293</td>\n",
       "      <td>11.504065</td>\n",
       "      <td>8.234959</td>\n",
       "      <td>29.308943</td>\n",
       "      <td>4.500116e+08</td>\n",
       "      <td>4.406109e+08</td>\n",
       "    </tr>\n",
       "    <tr>\n",
       "      <th>std</th>\n",
       "      <td>3.393985e+08</td>\n",
       "      <td>6.628180</td>\n",
       "      <td>17.088918</td>\n",
       "      <td>1.779756</td>\n",
       "      <td>1291.779019</td>\n",
       "      <td>5.129005e+06</td>\n",
       "      <td>4.489365e+08</td>\n",
       "      <td>1.905632</td>\n",
       "      <td>7.755410e+05</td>\n",
       "      <td>39.844179</td>\n",
       "      <td>9.869122</td>\n",
       "      <td>2.799970</td>\n",
       "      <td>6.045090</td>\n",
       "      <td>2.011299e+08</td>\n",
       "      <td>2.460010e+08</td>\n",
       "    </tr>\n",
       "    <tr>\n",
       "      <th>min</th>\n",
       "      <td>5.520683e+08</td>\n",
       "      <td>21.800000</td>\n",
       "      <td>359.261550</td>\n",
       "      <td>4.400000</td>\n",
       "      <td>8121.000000</td>\n",
       "      <td>1.880935e+08</td>\n",
       "      <td>2.208069e+09</td>\n",
       "      <td>4.000000</td>\n",
       "      <td>4.811625e+06</td>\n",
       "      <td>1.000000</td>\n",
       "      <td>1.000000</td>\n",
       "      <td>3.500000</td>\n",
       "      <td>18.000000</td>\n",
       "      <td>1.593078e+08</td>\n",
       "      <td>1.376442e+08</td>\n",
       "    </tr>\n",
       "    <tr>\n",
       "      <th>25%</th>\n",
       "      <td>6.687296e+08</td>\n",
       "      <td>25.200000</td>\n",
       "      <td>375.955674</td>\n",
       "      <td>5.000000</td>\n",
       "      <td>9716.100000</td>\n",
       "      <td>1.953679e+08</td>\n",
       "      <td>2.989450e+09</td>\n",
       "      <td>6.600000</td>\n",
       "      <td>6.610488e+06</td>\n",
       "      <td>16.000000</td>\n",
       "      <td>4.000000</td>\n",
       "      <td>5.950000</td>\n",
       "      <td>24.000000</td>\n",
       "      <td>3.097366e+08</td>\n",
       "      <td>2.703901e+08</td>\n",
       "    </tr>\n",
       "  </tbody>\n",
       "</table>\n",
       "</div>"
      ],
      "text/plain": [
       "       Monthly_sales_total  Market__Share  Expected_consumers_income_millions  \\\n",
       "count         1.230000e+02     123.000000                          123.000000   \n",
       "mean          9.103608e+08      29.769919                          389.942317   \n",
       "std           3.393985e+08       6.628180                           17.088918   \n",
       "min           5.520683e+08      21.800000                          359.261550   \n",
       "25%           6.687296e+08      25.200000                          375.955674   \n",
       "\n",
       "       Health_Consciousness_Rate  Personal_Consumption_Expenditures  \\\n",
       "count                 123.000000                         123.000000   \n",
       "mean                    6.569919                       10527.141463   \n",
       "std                     1.779756                        1291.779019   \n",
       "min                     4.400000                        8121.000000   \n",
       "25%                     5.000000                        9716.100000   \n",
       "\n",
       "       Population_growth  Total_Market_Size_Monthly  Price_Per_Unit  \\\n",
       "count       1.230000e+02               1.230000e+02      123.000000   \n",
       "mean        1.987514e+08               3.218278e+09        8.139837   \n",
       "std         5.129005e+06               4.489365e+08        1.905632   \n",
       "min         1.880935e+08               2.208069e+09        4.000000   \n",
       "25%         1.953679e+08               2.989450e+09        6.600000   \n",
       "\n",
       "       Advertising_costs  Number_of_Distributors  Number_of_Retail_Locations  \\\n",
       "count       1.230000e+02              123.000000                  123.000000   \n",
       "mean        7.059040e+06               45.268293                   11.504065   \n",
       "std         7.755410e+05               39.844179                    9.869122   \n",
       "min         4.811625e+06                1.000000                    1.000000   \n",
       "25%         6.610488e+06               16.000000                    4.000000   \n",
       "\n",
       "       Discount_Percentage  Temperature  NORTH_REGION  SOUTH_REGION  \n",
       "count           123.000000   123.000000  1.230000e+02  1.230000e+02  \n",
       "mean              8.234959    29.308943  4.500116e+08  4.406109e+08  \n",
       "std               2.799970     6.045090  2.011299e+08  2.460010e+08  \n",
       "min               3.500000    18.000000  1.593078e+08  1.376442e+08  \n",
       "25%               5.950000    24.000000  3.097366e+08  2.703901e+08  "
      ]
     },
     "execution_count": 130,
     "metadata": {},
     "output_type": "execute_result"
    }
   ],
   "source": [
    "data.describe().head()"
   ]
  },
  {
   "cell_type": "code",
   "execution_count": 129,
   "id": "f6d63870",
   "metadata": {},
   "outputs": [
    {
     "data": {
      "text/html": [
       "<div>\n",
       "<style scoped>\n",
       "    .dataframe tbody tr th:only-of-type {\n",
       "        vertical-align: middle;\n",
       "    }\n",
       "\n",
       "    .dataframe tbody tr th {\n",
       "        vertical-align: top;\n",
       "    }\n",
       "\n",
       "    .dataframe thead th {\n",
       "        text-align: right;\n",
       "    }\n",
       "</style>\n",
       "<table border=\"1\" class=\"dataframe\">\n",
       "  <thead>\n",
       "    <tr style=\"text-align: right;\">\n",
       "      <th></th>\n",
       "      <th>Monthly_sales_total</th>\n",
       "      <th>Market__Share</th>\n",
       "      <th>Expected_consumers_income_millions</th>\n",
       "      <th>Health_Consciousness_Rate</th>\n",
       "      <th>Personal_Consumption_Expenditures</th>\n",
       "      <th>Population_growth</th>\n",
       "      <th>Total_Market_Size_Monthly</th>\n",
       "      <th>Price_Per_Unit</th>\n",
       "      <th>Advertising_costs</th>\n",
       "      <th>Number_of_Distributors</th>\n",
       "      <th>Number_of_Retail_Locations</th>\n",
       "      <th>Discount_Percentage</th>\n",
       "      <th>Temperature</th>\n",
       "      <th>NORTH_REGION</th>\n",
       "      <th>SOUTH_REGION</th>\n",
       "    </tr>\n",
       "  </thead>\n",
       "  <tbody>\n",
       "    <tr>\n",
       "      <th>Monthly_sales_total</th>\n",
       "      <td>1.000000</td>\n",
       "      <td>0.955779</td>\n",
       "      <td>0.812189</td>\n",
       "      <td>-0.159223</td>\n",
       "      <td>0.847290</td>\n",
       "      <td>0.793170</td>\n",
       "      <td>0.859095</td>\n",
       "      <td>-0.824589</td>\n",
       "      <td>0.158347</td>\n",
       "      <td>0.978335</td>\n",
       "      <td>0.977532</td>\n",
       "      <td>0.672198</td>\n",
       "      <td>0.112991</td>\n",
       "      <td>0.649946</td>\n",
       "      <td>0.693558</td>\n",
       "    </tr>\n",
       "    <tr>\n",
       "      <th>Market__Share</th>\n",
       "      <td>0.955779</td>\n",
       "      <td>1.000000</td>\n",
       "      <td>0.675804</td>\n",
       "      <td>-0.212414</td>\n",
       "      <td>0.717441</td>\n",
       "      <td>0.649905</td>\n",
       "      <td>0.716664</td>\n",
       "      <td>-0.741770</td>\n",
       "      <td>0.131972</td>\n",
       "      <td>0.927630</td>\n",
       "      <td>0.926323</td>\n",
       "      <td>0.604188</td>\n",
       "      <td>0.167102</td>\n",
       "      <td>0.601085</td>\n",
       "      <td>0.684742</td>\n",
       "    </tr>\n",
       "    <tr>\n",
       "      <th>Expected_consumers_income_millions</th>\n",
       "      <td>0.812189</td>\n",
       "      <td>0.675804</td>\n",
       "      <td>1.000000</td>\n",
       "      <td>0.181408</td>\n",
       "      <td>0.982989</td>\n",
       "      <td>0.989376</td>\n",
       "      <td>0.954821</td>\n",
       "      <td>-0.822097</td>\n",
       "      <td>0.122327</td>\n",
       "      <td>0.826140</td>\n",
       "      <td>0.825398</td>\n",
       "      <td>0.648561</td>\n",
       "      <td>0.025923</td>\n",
       "      <td>0.566178</td>\n",
       "      <td>0.527348</td>\n",
       "    </tr>\n",
       "    <tr>\n",
       "      <th>Health_Consciousness_Rate</th>\n",
       "      <td>-0.159223</td>\n",
       "      <td>-0.212414</td>\n",
       "      <td>0.181408</td>\n",
       "      <td>1.000000</td>\n",
       "      <td>0.045476</td>\n",
       "      <td>0.208076</td>\n",
       "      <td>0.018045</td>\n",
       "      <td>-0.121402</td>\n",
       "      <td>0.208381</td>\n",
       "      <td>-0.157791</td>\n",
       "      <td>-0.166241</td>\n",
       "      <td>0.122787</td>\n",
       "      <td>0.011461</td>\n",
       "      <td>0.075081</td>\n",
       "      <td>-0.212217</td>\n",
       "    </tr>\n",
       "    <tr>\n",
       "      <th>Personal_Consumption_Expenditures</th>\n",
       "      <td>0.847290</td>\n",
       "      <td>0.717441</td>\n",
       "      <td>0.982989</td>\n",
       "      <td>0.045476</td>\n",
       "      <td>1.000000</td>\n",
       "      <td>0.981898</td>\n",
       "      <td>0.969721</td>\n",
       "      <td>-0.825102</td>\n",
       "      <td>0.094820</td>\n",
       "      <td>0.861898</td>\n",
       "      <td>0.862438</td>\n",
       "      <td>0.652976</td>\n",
       "      <td>0.017573</td>\n",
       "      <td>0.567233</td>\n",
       "      <td>0.561490</td>\n",
       "    </tr>\n",
       "  </tbody>\n",
       "</table>\n",
       "</div>"
      ],
      "text/plain": [
       "                                    Monthly_sales_total  Market__Share  \\\n",
       "Monthly_sales_total                            1.000000       0.955779   \n",
       "Market__Share                                  0.955779       1.000000   \n",
       "Expected_consumers_income_millions             0.812189       0.675804   \n",
       "Health_Consciousness_Rate                     -0.159223      -0.212414   \n",
       "Personal_Consumption_Expenditures              0.847290       0.717441   \n",
       "\n",
       "                                    Expected_consumers_income_millions  \\\n",
       "Monthly_sales_total                                           0.812189   \n",
       "Market__Share                                                 0.675804   \n",
       "Expected_consumers_income_millions                            1.000000   \n",
       "Health_Consciousness_Rate                                     0.181408   \n",
       "Personal_Consumption_Expenditures                             0.982989   \n",
       "\n",
       "                                    Health_Consciousness_Rate  \\\n",
       "Monthly_sales_total                                 -0.159223   \n",
       "Market__Share                                       -0.212414   \n",
       "Expected_consumers_income_millions                   0.181408   \n",
       "Health_Consciousness_Rate                            1.000000   \n",
       "Personal_Consumption_Expenditures                    0.045476   \n",
       "\n",
       "                                    Personal_Consumption_Expenditures  \\\n",
       "Monthly_sales_total                                          0.847290   \n",
       "Market__Share                                                0.717441   \n",
       "Expected_consumers_income_millions                           0.982989   \n",
       "Health_Consciousness_Rate                                    0.045476   \n",
       "Personal_Consumption_Expenditures                            1.000000   \n",
       "\n",
       "                                    Population_growth  \\\n",
       "Monthly_sales_total                          0.793170   \n",
       "Market__Share                                0.649905   \n",
       "Expected_consumers_income_millions           0.989376   \n",
       "Health_Consciousness_Rate                    0.208076   \n",
       "Personal_Consumption_Expenditures            0.981898   \n",
       "\n",
       "                                    Total_Market_Size_Monthly  Price_Per_Unit  \\\n",
       "Monthly_sales_total                                  0.859095       -0.824589   \n",
       "Market__Share                                        0.716664       -0.741770   \n",
       "Expected_consumers_income_millions                   0.954821       -0.822097   \n",
       "Health_Consciousness_Rate                            0.018045       -0.121402   \n",
       "Personal_Consumption_Expenditures                    0.969721       -0.825102   \n",
       "\n",
       "                                    Advertising_costs  Number_of_Distributors  \\\n",
       "Monthly_sales_total                          0.158347                0.978335   \n",
       "Market__Share                                0.131972                0.927630   \n",
       "Expected_consumers_income_millions           0.122327                0.826140   \n",
       "Health_Consciousness_Rate                    0.208381               -0.157791   \n",
       "Personal_Consumption_Expenditures            0.094820                0.861898   \n",
       "\n",
       "                                    Number_of_Retail_Locations  \\\n",
       "Monthly_sales_total                                   0.977532   \n",
       "Market__Share                                         0.926323   \n",
       "Expected_consumers_income_millions                    0.825398   \n",
       "Health_Consciousness_Rate                            -0.166241   \n",
       "Personal_Consumption_Expenditures                     0.862438   \n",
       "\n",
       "                                    Discount_Percentage  Temperature  \\\n",
       "Monthly_sales_total                            0.672198     0.112991   \n",
       "Market__Share                                  0.604188     0.167102   \n",
       "Expected_consumers_income_millions             0.648561     0.025923   \n",
       "Health_Consciousness_Rate                      0.122787     0.011461   \n",
       "Personal_Consumption_Expenditures              0.652976     0.017573   \n",
       "\n",
       "                                    NORTH_REGION  SOUTH_REGION  \n",
       "Monthly_sales_total                     0.649946      0.693558  \n",
       "Market__Share                           0.601085      0.684742  \n",
       "Expected_consumers_income_millions      0.566178      0.527348  \n",
       "Health_Consciousness_Rate               0.075081     -0.212217  \n",
       "Personal_Consumption_Expenditures       0.567233      0.561490  "
      ]
     },
     "execution_count": 129,
     "metadata": {},
     "output_type": "execute_result"
    }
   ],
   "source": [
    "data.corr().head()"
   ]
  },
  {
   "cell_type": "code",
   "execution_count": 120,
   "id": "c60d45c6",
   "metadata": {},
   "outputs": [
    {
     "data": {
      "text/plain": [
       "<AxesSubplot:>"
      ]
     },
     "execution_count": 120,
     "metadata": {},
     "output_type": "execute_result"
    },
    {
     "data": {
      "image/png": "[encoded data removed]",
      "text/plain": [
       "<Figure size 432x288 with 2 Axes>"
      ]
     },
     "metadata": {},
     "output_type": "display_data"
    }
   ],
   "source": [
    "sns.heatmap(data.corr())"
   ]
  },
  {
   "cell_type": "code",
   "execution_count": 121,
   "id": "5c53b03f",
   "metadata": {},
   "outputs": [],
   "source": [
    "#Splitting the dataset\n",
    "X=data[['Number_of_Distributors', 'Expected_consumers_income_millions', 'Health_Consciousness_Rate', 'Personal_Consumption_Expenditures', 'Population_growth', 'Price_Per_Unit' ,'Advertising_costs', 'Number_of_Distributors', 'Number_of_Retail_Locations', 'Discount_Percentage', 'Temperature']]\n",
    "y=data['Monthly_sales_total']\n",
    "X_train, X_test, y_train, y_test= train_test_split(X, y, test_size=0.49,train_size=0.5, random_state=0)"
   ]
  },
  {
   "cell_type": "code",
   "execution_count": 126,
   "id": "70a03f00",
   "metadata": {},
   "outputs": [
    {
     "name": "stdout",
     "output_type": "stream",
     "text": [
      "                             OLS Regression Results                            \n",
      "===============================================================================\n",
      "Dep. Variable:     Monthly_sales_total   R-squared:                       0.974\n",
      "Model:                             OLS   Adj. R-squared:                  0.969\n",
      "Method:                  Least Squares   F-statistic:                     187.1\n",
      "Date:                 Wed, 23 Mar 2022   Prob (F-statistic):           5.21e-36\n",
      "Time:                         21:02:56   Log-Likelihood:                -1175.2\n",
      "No. Observations:                   61   AIC:                             2372.\n",
      "Df Residuals:                       50   BIC:                             2396.\n",
      "Df Model:                           10                                         \n",
      "Covariance Type:             nonrobust                                         \n",
      "======================================================================================================\n",
      "                                         coef    std err          t      P>|t|      [0.025      0.975]\n",
      "------------------------------------------------------------------------------------------------------\n",
      "const                              -3.294e+07   2.83e+09     -0.012      0.991   -5.72e+09    5.65e+09\n",
      "Number_of_Distributors              2.285e+06   1.78e+06      1.287      0.204   -1.28e+06    5.85e+06\n",
      "Expected_consumers_income_millions  2.443e+06   4.62e+06      0.529      0.599   -6.83e+06    1.17e+07\n",
      "Health_Consciousness_Rate          -1.652e+07    1.1e+07     -1.508      0.138   -3.85e+07    5.48e+06\n",
      "Personal_Consumption_Expenditures  -1.998e+04   8.11e+04     -0.246      0.806   -1.83e+05    1.43e+05\n",
      "Population_growth                     -0.1958     19.226     -0.010      0.992     -38.813      38.421\n",
      "Price_Per_Unit                     -2.073e+07   9.87e+06     -2.102      0.041   -4.05e+07    -9.2e+05\n",
      "Advertising_costs                      6.0140     13.037      0.461      0.647     -20.172      32.200\n",
      "Number_of_Distributors              2.285e+06   1.78e+06      1.287      0.204   -1.28e+06    5.85e+06\n",
      "Number_of_Retail_Locations          6.443e+06   1.44e+07      0.449      0.655   -2.24e+07    3.53e+07\n",
      "Discount_Percentage                  1.02e+07   4.84e+06      2.108      0.040     4.8e+05    1.99e+07\n",
      "Temperature                         3.828e+06   1.49e+06      2.573      0.013     8.4e+05    6.82e+06\n",
      "==============================================================================\n",
      "Omnibus:                       13.249   Durbin-Watson:                   1.716\n",
      "Prob(Omnibus):                  0.001   Jarque-Bera (JB):               20.173\n",
      "Skew:                           0.743   Prob(JB):                     4.16e-05\n",
      "Kurtosis:                       5.394   Cond. No.                     1.29e+23\n",
      "==============================================================================\n",
      "\n",
      "Notes:\n",
      "[1] Standard Errors assume that the covariance matrix of the errors is correctly specified.\n",
      "[2] The smallest eigenvalue is 1.46e-28. This might indicate that there are\n",
      "strong multicollinearity problems or that the design matrix is singular.\n"
     ]
    }
   ],
   "source": [
    "# Importing Statsmodels.api library from Stamodel package\n",
    "import statsmodels.api as sm\n",
    "# Adding a constant to get an intercept\n",
    "X_train_sm = sm.add_constant(X_train)\n",
    "# Fitting the resgression line using 'OLS'\n",
    "lr = sm.OLS(y_train, X_train_sm).fit()\n",
    "#printing Summary\n",
    "print(lr.summary())"
   ]
  },
  {
   "cell_type": "code",
   "execution_count": 132,
   "id": "fb6c39d4",
   "metadata": {},
   "outputs": [
    {
     "data": {
      "text/html": [
       "<div>\n",
       "<style scoped>\n",
       "    .dataframe tbody tr th:only-of-type {\n",
       "        vertical-align: middle;\n",
       "    }\n",
       "\n",
       "    .dataframe tbody tr th {\n",
       "        vertical-align: top;\n",
       "    }\n",
       "\n",
       "    .dataframe thead th {\n",
       "        text-align: right;\n",
       "    }\n",
       "</style>\n",
       "<table border=\"1\" class=\"dataframe\">\n",
       "  <thead>\n",
       "    <tr style=\"text-align: right;\">\n",
       "      <th></th>\n",
       "      <th>Actual</th>\n",
       "      <th>Predicted</th>\n",
       "    </tr>\n",
       "    <tr>\n",
       "      <th>Date</th>\n",
       "      <th></th>\n",
       "      <th></th>\n",
       "    </tr>\n",
       "  </thead>\n",
       "  <tbody>\n",
       "    <tr>\n",
       "      <th>2013-01-10</th>\n",
       "      <td>9.524717e+08</td>\n",
       "      <td>9.708353e+08</td>\n",
       "    </tr>\n",
       "    <tr>\n",
       "      <th>2014-01-08</th>\n",
       "      <td>1.096219e+09</td>\n",
       "      <td>1.116772e+09</td>\n",
       "    </tr>\n",
       "    <tr>\n",
       "      <th>2005-01-11</th>\n",
       "      <td>6.341348e+08</td>\n",
       "      <td>5.872227e+08</td>\n",
       "    </tr>\n",
       "    <tr>\n",
       "      <th>2011-01-07</th>\n",
       "      <td>9.703091e+08</td>\n",
       "      <td>9.918525e+08</td>\n",
       "    </tr>\n",
       "    <tr>\n",
       "      <th>2005-01-12</th>\n",
       "      <td>5.670651e+08</td>\n",
       "      <td>5.415916e+08</td>\n",
       "    </tr>\n",
       "  </tbody>\n",
       "</table>\n",
       "</div>"
      ],
      "text/plain": [
       "                  Actual     Predicted\n",
       "Date                                  \n",
       "2013-01-10  9.524717e+08  9.708353e+08\n",
       "2014-01-08  1.096219e+09  1.116772e+09\n",
       "2005-01-11  6.341348e+08  5.872227e+08\n",
       "2011-01-07  9.703091e+08  9.918525e+08\n",
       "2005-01-12  5.670651e+08  5.415916e+08"
      ]
     },
     "execution_count": 132,
     "metadata": {},
     "output_type": "execute_result"
    }
   ],
   "source": [
    "# Adding a constant to get an intercept\n",
    "X_test_sm = sm.add_constant(X_test)\n",
    "#predicting\n",
    "y_test_pred = lr.predict(X_test_sm) \n",
    "#print(\"Predicted value\\n\",y_pred)\n",
    "dataset = pd.DataFrame({'Actual': y_test, 'Predicted': y_test_pred})\n",
    "#print('Actual Values vs Predicted Values\\n',dataset)\n",
    "dataset.head()"
   ]
  },
  {
   "cell_type": "code",
   "execution_count": 133,
   "id": "29c11065",
   "metadata": {},
   "outputs": [
    {
     "data": {
      "text/plain": [
       "<AxesSubplot:xlabel='Monthly_sales_total'>"
      ]
     },
     "execution_count": 133,
     "metadata": {},
     "output_type": "execute_result"
    },
    {
     "data": {
      "image/png": "[encoded data removed]",
      "text/plain": [
       "<Figure size 432x288 with 1 Axes>"
      ]
     },
     "metadata": {},
     "output_type": "display_data"
    }
   ],
   "source": [
    "sns.regplot(x=y_test,y=y_test_pred,ci=None,color ='red')"
   ]
  },
  {
   "cell_type": "code",
   "execution_count": 134,
   "id": "20a0400b",
   "metadata": {},
   "outputs": [
    {
     "name": "stdout",
     "output_type": "stream",
     "text": [
      "0.9296673300819529\n",
      "Mean Absolute Error: 61000569.84392162\n",
      "Mean Squared Error: 7557672811607743.0\n",
      "Root Mean Squared Error: 86934876.84242581\n",
      "Mean Absolute Percentage Error: 0.0049037296426247936\n"
     ]
    }
   ],
   "source": [
    "print(r2_score(y_test,y_test_pred))\n",
    "print('Mean Absolute Error:', metrics.mean_absolute_error(y_test, y_test_pred))  \n",
    "print('Mean Squared Error:', metrics.mean_squared_error(y_test, y_test_pred))  \n",
    "print('Root Mean Squared Error:', np.sqrt(metrics.mean_squared_error(y_test, y_test_pred)))\n",
    "print('Mean Absolute Percentage Error:',np.mean(abs(sum(y_test-y_test_pred)/sum(y_test))))"
   ]
  },
  {
   "cell_type": "code",
   "execution_count": null,
   "id": "df908c1e",
   "metadata": {},
   "outputs": [],
   "source": []
  },
  {
   "cell_type": "code",
   "execution_count": null,
   "id": "fbf039cc",
   "metadata": {},
   "outputs": [],
   "source": []
  },
  {
   "cell_type": "code",
   "execution_count": null,
   "id": "116076cc",
   "metadata": {},
   "outputs": [],
   "source": []
  },
  {
   "cell_type": "code",
   "execution_count": null,
   "id": "9c8fc694",
   "metadata": {},
   "outputs": [],
   "source": []
  },
  {
   "cell_type": "code",
   "execution_count": null,
   "id": "166f0eba",
   "metadata": {},
   "outputs": [],
   "source": []
  },
  {
   "cell_type": "code",
   "execution_count": null,
   "id": "0c4cbca3",
   "metadata": {},
   "outputs": [],
   "source": []
  },
  {
   "cell_type": "code",
   "execution_count": null,
   "id": "2dcf893e",
   "metadata": {},
   "outputs": [],
   "source": []
  },
  {
   "cell_type": "code",
   "execution_count": null,
   "id": "27cdd7f4",
   "metadata": {},
   "outputs": [],
   "source": []
  },
  {
   "cell_type": "code",
   "execution_count": null,
   "id": "6d8c93f3",
   "metadata": {},
   "outputs": [],
   "source": []
  },
  {
   "cell_type": "code",
   "execution_count": null,
   "id": "b198620d",
   "metadata": {},
   "outputs": [],
   "source": []
  },
  {
   "cell_type": "code",
   "execution_count": null,
   "id": "0fc2c9d3",
   "metadata": {},
   "outputs": [],
   "source": []
  },
  {
   "cell_type": "code",
   "execution_count": null,
   "id": "cabe7979",
   "metadata": {},
   "outputs": [],
   "source": []
  },
  {
   "cell_type": "code",
   "execution_count": null,
   "id": "18dc87ba",
   "metadata": {},
   "outputs": [],
   "source": []
  },
  {
   "cell_type": "code",
   "execution_count": null,
   "id": "300e108c",
   "metadata": {},
   "outputs": [],
   "source": []
  },
  {
   "cell_type": "code",
   "execution_count": null,
   "id": "a3ee0a35",
   "metadata": {},
   "outputs": [],
   "source": []
  },
  {
   "cell_type": "code",
   "execution_count": null,
   "id": "ec256005",
   "metadata": {},
   "outputs": [],
   "source": []
  }
 ],
 "metadata": {
  "kernelspec": {
   "display_name": "Python 3 (ipykernel)",
   "language": "python",
   "name": "python3"
  },
  "language_info": {
   "codemirror_mode": {
    "name": "ipython",
    "version": 3
   },
   "file_extension": ".py",
   "mimetype": "text/x-python",
   "name": "python",
   "nbconvert_exporter": "python",
   "pygments_lexer": "ipython3",
   "version": "3.9.7"
  }
 },
 "nbformat": 4,
 "nbformat_minor": 5
}
